{
 "cells": [
  {
   "cell_type": "code",
   "execution_count": 1,
   "id": "initial_id",
   "metadata": {
    "collapsed": true,
    "ExecuteTime": {
     "end_time": "2024-04-20T22:24:33.612462200Z",
     "start_time": "2024-04-20T22:24:33.268963600Z"
    }
   },
   "outputs": [],
   "source": [
    "import os\n",
    "import matplotlib.pyplot as plt\n",
    "from backtests import fetch_portfolio_states, start_backtest, wait_for_backtest, BacktestRequest\n",
    "from strategy import get_strategy_names"
   ]
  },
  {
   "cell_type": "code",
   "outputs": [],
   "source": [
    "def plot_portfolio_value(assets_states, save_name=None, show=True):\n",
    "    portfolio_values = [state.assets.equityValue for state in assets_states]\n",
    "    dates = [state.createdAt for state in assets_states]\n",
    "    \n",
    "    plt.figure(figsize=(15, 6))\n",
    "    plt.plot(dates, portfolio_values)\n",
    "    plt.xlabel('Date')\n",
    "    plt.ylabel('Value')\n",
    "    \n",
    "    if save_name is not None:\n",
    "        os.makedirs(\"plots\", exist_ok=True)\n",
    "        plt.savefig(f\"plots/{save_name}.png\", transparent=True)\n",
    "    \n",
    "    if show:\n",
    "        plt.show()\n",
    "        \n",
    "    if (save_name is not None) or show:\n",
    "        plt.clf()"
   ],
   "metadata": {
    "collapsed": false,
    "ExecuteTime": {
     "end_time": "2024-04-20T22:08:24.026185300Z",
     "start_time": "2024-04-20T22:08:24.023679900Z"
    }
   },
   "id": "77c6a0b46b09a5db",
   "execution_count": 2
  },
  {
   "cell_type": "code",
   "execution_count": 3,
   "outputs": [],
   "source": [
    "def plot_num_of_positions(assets_states):\n",
    "    portfolio_values = [len(state.assets.positions) for state in assets_states]\n",
    "    dates = [state.createdAt for state in assets_states]\n",
    "    \n",
    "    plt.figure(figsize=(15, 6))\n",
    "    plt.plot(dates, portfolio_values)\n",
    "    plt.xlabel('Date')\n",
    "    plt.ylabel('Positions')\n",
    "    plt.show()"
   ],
   "metadata": {
    "collapsed": false,
    "ExecuteTime": {
     "end_time": "2024-04-20T22:08:24.438593600Z",
     "start_time": "2024-04-20T22:08:24.436590100Z"
    }
   },
   "id": "3b3ac3c3daa6328f"
  },
  {
   "cell_type": "code",
   "outputs": [],
   "source": [
    "class Investment:\n",
    "    def __init__(self, symbol, start, end, entry, exit_value):\n",
    "        self.symbol = symbol\n",
    "        self.start = start\n",
    "        self.end = end\n",
    "        self.entry = entry\n",
    "        self.exit_value = exit_value\n",
    "        \n",
    "    @staticmethod\n",
    "    def from_position(position, start, end):\n",
    "        return Investment(position.symbol, start, end, position.averageEntryPrice * position.quantity, position.marketValue)\n",
    "\n",
    "def get_investments(assets_states):    \n",
    "    def get_last_positions(assets_states):\n",
    "        result = []\n",
    "        for before, after in zip(assets_states[:-1], assets_states[1:]):\n",
    "            today = before.createdAt.date()\n",
    "            for position in before.assets.positions:\n",
    "                \n",
    "                if position.symbol in [p.symbol for p in after.assets.positions]:\n",
    "                    continue\n",
    "                    \n",
    "                result.append((position, today))\n",
    "                \n",
    "        for position in assets_states[-1].assets.positions:\n",
    "            result.append((position, assets_states[-1].createdAt.date()))\n",
    "                \n",
    "        return result\n",
    "\n",
    "    def get_open_dates(assets_states):\n",
    "        result = dict()\n",
    "        for before, after in zip(assets_states[:-1], assets_states[1:]):\n",
    "            today = before.createdAt.date()\n",
    "            for position in after.assets.positions:\n",
    "\n",
    "                if position.symbol in [p.symbol for p in before.assets.positions]:\n",
    "                    continue\n",
    "\n",
    "                if position.symbol not in result:\n",
    "                    result[position.symbol] = []\n",
    "\n",
    "                result[position.symbol].append(today)\n",
    "\n",
    "        return result\n",
    "        \n",
    "    open_dates = get_open_dates(assets_states)\n",
    "    last_positions = get_last_positions(assets_states)\n",
    "    \n",
    "    return list(sorted([\n",
    "        Investment.from_position(last, [v for v in open_dates[last.symbol] if v < end][-1], end) for last, end in last_positions\n",
    "    ], key=lambda i: i.exit_value / i.entry, reverse=True))\n",
    "\n",
    "def print_investments(investments):\n",
    "    for inv in investments:\n",
    "        print(f\"{inv.symbol}: {inv.exit_value / inv.entry} ({inv.start} to {inv.end})\")"
   ],
   "metadata": {
    "collapsed": false,
    "ExecuteTime": {
     "end_time": "2024-04-20T22:08:24.869878900Z",
     "start_time": "2024-04-20T22:08:24.865865400Z"
    }
   },
   "id": "c1eb04cd99f8f7be",
   "execution_count": 4
  },
  {
   "cell_type": "code",
   "execution_count": 5,
   "outputs": [],
   "source": [
    "class BacktestAnalysis:\n",
    "    def __init__(self, total_return, investments_count, avg_investment_length, positive_investment_ratio):\n",
    "        self.total_return = total_return\n",
    "        self.investments_count = investments_count\n",
    "        self.avg_investment_length = avg_investment_length\n",
    "        self.positive_investment_ratio = positive_investment_ratio\n",
    "\n",
    "def analyze_backtest(backtest_id, name=None, verbose=True):\n",
    "    portfolio_states = fetch_portfolio_states(backtest_id)\n",
    "    investments = get_investments(portfolio_states)\n",
    "    test_return = portfolio_states[-1].assets.equityValue / portfolio_states[0].assets.equityValue - 1\n",
    "    \n",
    "    if name is None:\n",
    "        name = backtest_id\n",
    "        \n",
    "    analysis_details = BacktestAnalysis( \n",
    "        total_return=test_return, \n",
    "        investments_count=len(investments), \n",
    "        avg_investment_length=sum((inv.end - inv.start).days for inv in investments) / len(investments) if len(investments) > 0 else 0, \n",
    "        positive_investment_ratio=len([i for i in investments if i.exit_value / i.entry > 1]) / len(investments) if len(investments) > 0 else 0\n",
    "    )\n",
    "    \n",
    "    if verbose:\n",
    "        print_analysis(name, analysis_details)\n",
    "    \n",
    "    plot_portfolio_value(portfolio_states, save_name=f\"{name}_returns_chart\", show=verbose)\n",
    "    \n",
    "    return analysis_details\n",
    "\n",
    "def print_analysis(name, analysis_details):\n",
    "    print(f\"-> BACKTEST {name}\")\n",
    "    print(f\"\\tReturn:                     {(analysis_details.total_return*100):.3f}%\")\n",
    "    print(f\"\\tInvestments:                {analysis_details.investments_count}\")\n",
    "    print(f\"\\t Avg investment length:     {analysis_details.avg_investment_length:.3f} days\")\n",
    "    print(f\"\\t Positive investment ratio: {(analysis_details.positive_investment_ratio * 100):.2f}%\")"
   ],
   "metadata": {
    "collapsed": false,
    "ExecuteTime": {
     "end_time": "2024-04-20T22:08:25.338541100Z",
     "start_time": "2024-04-20T22:08:25.337034Z"
    }
   },
   "id": "536d96db42bcd012"
  },
  {
   "cell_type": "code",
   "execution_count": 6,
   "outputs": [],
   "source": [
    "def run_backtests_for_strategies(symbols, skip, prediction_error, strategies=None):\n",
    "    def make_request(name):\n",
    "        return BacktestRequest(\n",
    "            strategy=name,\n",
    "            symbols=symbols,\n",
    "            skip=skip,\n",
    "            use_predictor=False,\n",
    "            avg_prediction_error=prediction_error\n",
    "        )\n",
    "    \n",
    "    if strategies is None:\n",
    "        strategies = get_strategy_names()\n",
    "    \n",
    "    for strategy_name in strategies:\n",
    "        backtest_id = start_backtest(make_request(strategy_name))\n",
    "        wait_for_backtest(backtest_id)\n",
    "        analyze_backtest(backtest_id, name=f\"err_{(prediction_error*100):.2f}_{strategy_name.lower().replace(' strategy', '').replace(' ', '_')}\")"
   ],
   "metadata": {
    "collapsed": false,
    "ExecuteTime": {
     "end_time": "2024-04-20T22:08:25.833657600Z",
     "start_time": "2024-04-20T22:08:25.831150400Z"
    }
   },
   "id": "478feb174fc7085a"
  },
  {
   "cell_type": "code",
   "execution_count": 7,
   "outputs": [],
   "source": [
    "def run_backtests_with_folds(prediction_error):\n",
    "    def make_request(name, fold):\n",
    "        return BacktestRequest(\n",
    "            strategy=name,\n",
    "            symbols=1100,\n",
    "            skip=fold*1100,\n",
    "            use_predictor=False,\n",
    "            avg_prediction_error=prediction_error\n",
    "        )\n",
    "    \n",
    "    def make_name(strategy_name, fold):\n",
    "        return f\"5_folds_err_{(prediction_error*100):.2f}_{strategy_name.lower().replace(' strategy', '').replace(' ', '_')}_fold_{fold}\"\n",
    "    \n",
    "    folds = list(range(5))\n",
    "    for strategy_name in get_strategy_names():\n",
    "        analysis_results = []\n",
    "        for fold in folds:\n",
    "            backtest_id = start_backtest(make_request(strategy_name, fold))\n",
    "            wait_for_backtest(backtest_id)\n",
    "            analysis_results.append(\n",
    "                analyze_backtest(backtest_id, name=make_name(strategy_name, fold), verbose=False)\n",
    "            )\n",
    "            \n",
    "        combined_details = BacktestAnalysis(\n",
    "            total_return=sum(a.total_return for a in analysis_results) / len(analysis_results),\n",
    "            investments_count=sum(a.investments_count for a in analysis_results) / len(analysis_results),\n",
    "            avg_investment_length=sum(a.avg_investment_length for a in analysis_results) / len(analysis_results),\n",
    "            positive_investment_ratio=sum(a.positive_investment_ratio for a in analysis_results) / len(analysis_results)\n",
    "        )\n",
    "        \n",
    "        print_analysis(f\"folds_err_{(prediction_error*100):.2f}_{strategy_name.lower().replace(' strategy', '').replace(' ', '_')}\", combined_details)"
   ],
   "metadata": {
    "collapsed": false,
    "ExecuteTime": {
     "end_time": "2024-04-20T22:08:26.291928200Z",
     "start_time": "2024-04-20T22:08:26.289362Z"
    }
   },
   "id": "e936e5c3b9b5e9af"
  },
  {
   "cell_type": "markdown",
   "source": [
    "### Strategy backtests "
   ],
   "metadata": {
    "collapsed": false
   },
   "id": "e8e2c34f697e9614"
  },
  {
   "cell_type": "code",
   "execution_count": null,
   "outputs": [],
   "source": [
    "run_backtests_for_strategies(symbols=-1, skip=0, prediction_error=0)"
   ],
   "metadata": {
    "collapsed": false
   },
   "id": "841691b9361cae29"
  },
  {
   "cell_type": "code",
   "outputs": [],
   "source": [
    "run_backtests_with_folds(prediction_error=0)"
   ],
   "metadata": {
    "collapsed": false
   },
   "id": "d5e8743f202f34db",
   "execution_count": null
  },
  {
   "cell_type": "code",
   "outputs": [],
   "source": [
    "for error in [0.01, 0.05, 0.1, 0.2]:\n",
    "    run_backtests_with_folds(prediction_error=error)"
   ],
   "metadata": {
    "collapsed": false
   },
   "id": "4cdc657df49a2c0a",
   "execution_count": null
  },
  {
   "cell_type": "code",
   "outputs": [],
   "source": [
    "for error in [0.01, 0.05, 0.1, 0.2]:\n",
    "    run_backtests_for_strategies(symbols=-1, skip=0, prediction_error=error, strategies=[\n",
    "        \"Basic strategy\",\n",
    "        \"Greedy optimal strategy\",\n",
    "        \"Overreaction strategy with predictions\",\n",
    "        \"Trend following strategy with predictions\",\n",
    "        \"PCA strategy with predictions\"\n",
    "    ])"
   ],
   "metadata": {
    "collapsed": false
   },
   "id": "3b07c50c23236e48",
   "execution_count": null
  },
  {
   "cell_type": "markdown",
   "source": [
    "### Bayes search"
   ],
   "metadata": {
    "collapsed": false
   },
   "id": "eb5ad2fbacfd215e"
  },
  {
   "cell_type": "code",
   "outputs": [
    {
     "name": "stdout",
     "output_type": "stream",
     "text": [
      "Running a backtest with params: {'maxStocksBuyCount': 18, 'minDaysDecreasing': 5, 'minDaysIncreasing': 5, 'topGrowingSymbolsBuyRatio': 0.776845450631919}\n",
      "Waiting for backtest dd076f85-53c2-4cb0-84ef-cf5a6394cec4\n",
      "Running a backtest with params: {'maxStocksBuyCount': 12, 'minDaysDecreasing': 2, 'minDaysIncreasing': 4, 'topGrowingSymbolsBuyRatio': 0.2143196729246498}\n",
      "Waiting for backtest 27a6ccf6-d31a-40db-8eff-72f136e3e727\n",
      "Running a backtest with params: {'maxStocksBuyCount': 10, 'minDaysDecreasing': 2, 'minDaysIncreasing': 2, 'topGrowingSymbolsBuyRatio': 0.14089230367938088}\n",
      "Waiting for backtest 15baee58-7754-46b2-b49e-77834548d992\n",
      "Running a backtest with params: {'maxStocksBuyCount': 9, 'minDaysDecreasing': 2, 'minDaysIncreasing': 1, 'topGrowingSymbolsBuyRatio': 0.6285123815557421}\n",
      "Waiting for backtest 8b763ab9-21fe-4a18-86bf-fe4ad3697c0a\n",
      "Running a backtest with params: {'maxStocksBuyCount': 5, 'minDaysDecreasing': 2, 'minDaysIncreasing': 4, 'topGrowingSymbolsBuyRatio': 0.13137752180131185}\n",
      "Waiting for backtest 65823600-ef11-4035-8224-4335112703a2\n",
      "Running a backtest with params: {'maxStocksBuyCount': 16, 'minDaysDecreasing': 1, 'minDaysIncreasing': 1, 'topGrowingSymbolsBuyRatio': 0.8950243040752154}\n",
      "Waiting for backtest f6e0969b-ce17-4565-9f01-02836dee52d7\n",
      "Running a backtest with params: {'maxStocksBuyCount': 3, 'minDaysDecreasing': 4, 'minDaysIncreasing': 1, 'topGrowingSymbolsBuyRatio': 0.24520389103193704}\n",
      "Waiting for backtest 6039cc54-5c04-4df3-b812-0a8fb2d6c7a0\n",
      "Running a backtest with params: {'maxStocksBuyCount': 3, 'minDaysDecreasing': 5, 'minDaysIncreasing': 4, 'topGrowingSymbolsBuyRatio': 0.8749818985842267}\n",
      "Waiting for backtest 9c736e63-5498-4596-9d26-47c40f832e47\n",
      "Running a backtest with params: {'maxStocksBuyCount': 14, 'minDaysDecreasing': 2, 'minDaysIncreasing': 4, 'topGrowingSymbolsBuyRatio': 0.2938792761203471}\n",
      "Waiting for backtest 78b96ebd-7228-47ed-ac87-54eded58b04e\n",
      "Running a backtest with params: {'maxStocksBuyCount': 8, 'minDaysDecreasing': 5, 'minDaysIncreasing': 1, 'topGrowingSymbolsBuyRatio': 0.17200315997892712}\n",
      "Waiting for backtest 219bae6c-f164-4100-8da1-844941b495fe\n"
     ]
    }
   ],
   "source": [
    "from bayes import perform_bayes_search\n",
    "from skopt.space import Real, Integer\n",
    "\n",
    "best_params, best_score = perform_bayes_search(\n",
    "    \"Basic strategy\",\n",
    "    {\n",
    "        \"maxStocksBuyCount\": Integer(low=1, high=20),\n",
    "        \"minDaysDecreasing\": Integer(low=1, high=5),\n",
    "        \"minDaysIncreasing\": Integer(low=1, high=5),\n",
    "        \"topGrowingSymbolsBuyRatio\": Real(0.1, 0.9)\n",
    "    },\n",
    "    10,\n",
    "    prediction_error=0,\n",
    "    symbols=200,\n",
    "    skip=0\n",
    ")"
   ],
   "metadata": {
    "collapsed": false,
    "ExecuteTime": {
     "end_time": "2024-04-20T22:27:15.778383300Z",
     "start_time": "2024-04-20T22:24:45.692184500Z"
    }
   },
   "id": "27438f9a99538830",
   "execution_count": 2
  }
 ],
 "metadata": {
  "kernelspec": {
   "display_name": "Python 3",
   "language": "python",
   "name": "python3"
  },
  "language_info": {
   "codemirror_mode": {
    "name": "ipython",
    "version": 2
   },
   "file_extension": ".py",
   "mimetype": "text/x-python",
   "name": "python",
   "nbconvert_exporter": "python",
   "pygments_lexer": "ipython2",
   "version": "2.7.6"
  }
 },
 "nbformat": 4,
 "nbformat_minor": 5
}
