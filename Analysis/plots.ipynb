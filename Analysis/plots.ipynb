{
 "cells": [
  {
   "cell_type": "code",
   "execution_count": null,
   "id": "initial_id",
   "metadata": {
    "collapsed": true
   },
   "outputs": [],
   "source": [
    "import os\n",
    "import matplotlib.pyplot as plt\n",
    "from backtests import fetch_portfolio_states, start_backtest, wait_for_backtest, BacktestRequest, analyze_backtest, BacktestAnalysis, get_backtest_ids, get_backtest_return\n",
    "from strategy import get_strategy_names, set_strategy_parameters, get_strategy_parameters"
   ]
  },
  {
   "cell_type": "code",
   "outputs": [],
   "source": [
    "def plot_portfolio_value(assets_states, save_name=None, show=True):\n",
    "    portfolio_values = [state.assets.equityValue for state in assets_states]\n",
    "    dates = [state.createdAt for state in assets_states]\n",
    "    \n",
    "    plt.figure(figsize=(15, 6))\n",
    "    plt.plot(dates, portfolio_values)\n",
    "    plt.xlabel('Date')\n",
    "    plt.ylabel('Value')\n",
    "    \n",
    "    if save_name is not None:\n",
    "        os.makedirs(\"plots\", exist_ok=True)\n",
    "        plt.savefig(f\"plots/{save_name}.png\", transparent=True)\n",
    "    \n",
    "    if show:\n",
    "        plt.show()\n",
    "        \n",
    "    if (save_name is not None) or show:\n",
    "        plt.clf()"
   ],
   "metadata": {
    "collapsed": false
   },
   "id": "77c6a0b46b09a5db",
   "execution_count": null
  },
  {
   "cell_type": "code",
   "execution_count": null,
   "outputs": [],
   "source": [
    "def plot_num_of_positions(assets_states):\n",
    "    portfolio_values = [len(state.assets.positions) for state in assets_states]\n",
    "    dates = [state.createdAt for state in assets_states]\n",
    "    \n",
    "    plt.figure(figsize=(15, 6))\n",
    "    plt.plot(dates, portfolio_values)\n",
    "    plt.xlabel('Date')\n",
    "    plt.ylabel('Positions')\n",
    "    plt.show()"
   ],
   "metadata": {
    "collapsed": false
   },
   "id": "3b3ac3c3daa6328f"
  },
  {
   "cell_type": "code",
   "outputs": [],
   "source": [
    "def print_investments(investments):\n",
    "    for inv in investments:\n",
    "        print(f\"{inv.symbol}: {inv.exit_value / inv.entry} ({inv.start} to {inv.end})\")"
   ],
   "metadata": {
    "collapsed": false
   },
   "id": "c1eb04cd99f8f7be",
   "execution_count": null
  },
  {
   "cell_type": "code",
   "execution_count": null,
   "outputs": [],
   "source": [
    "def print_analysis(name, analysis_details):\n",
    "    print(f\"-> BACKTEST {name}\")\n",
    "    print(f\"\\tReturn:                     {(analysis_details.total_return*100):.3f}%\")\n",
    "    print(f\"\\tInvestments:                {analysis_details.investments_count}\")\n",
    "    print(f\"\\t Avg investment length:     {analysis_details.avg_investment_length:.3f} days\")\n",
    "    print(f\"\\t Positive investment ratio: {(analysis_details.positive_investment_ratio * 100):.2f}%\")"
   ],
   "metadata": {
    "collapsed": false
   },
   "id": "536d96db42bcd012"
  },
  {
   "cell_type": "code",
   "execution_count": null,
   "outputs": [],
   "source": [
    "def run_backtests_for_strategies(symbols, skip, prediction_error, strategies=None):\n",
    "    def make_request(strategy):\n",
    "        return BacktestRequest(\n",
    "            strategy=strategy,\n",
    "            symbols=symbols,\n",
    "            skip=skip,\n",
    "            use_predictor=False,\n",
    "            avg_prediction_error=prediction_error\n",
    "        )\n",
    "    \n",
    "    if strategies is None:\n",
    "        strategies = get_strategy_names()\n",
    "    \n",
    "    for strategy_name in strategies:\n",
    "        backtest_id = start_backtest(make_request(strategy_name))\n",
    "        wait_for_backtest(backtest_id)\n",
    "        analysis = analyze_backtest(backtest_id)\n",
    "        \n",
    "        name=f\"err_{(prediction_error*100):.2f}_{strategy_name.lower().replace(' strategy', '').replace(' ', '_')}\"\n",
    "        print_analysis(name, analysis)\n",
    "        plot_portfolio_value(analysis.portfolio_states, name, show=False)"
   ],
   "metadata": {
    "collapsed": false
   },
   "id": "478feb174fc7085a"
  },
  {
   "cell_type": "code",
   "execution_count": null,
   "outputs": [],
   "source": [
    "def run_backtests_with_folds(prediction_error, strategies=None):\n",
    "    def make_request(name, fold):\n",
    "        return BacktestRequest(\n",
    "            strategy=name,\n",
    "            symbols=1100,\n",
    "            skip=fold*1100,\n",
    "            use_predictor=False,\n",
    "            avg_prediction_error=prediction_error\n",
    "        )\n",
    "    \n",
    "    if strategies is None:\n",
    "        strategies = get_strategy_names()\n",
    "    \n",
    "    folds = list(range(5))\n",
    "    for strategy_name in strategies:\n",
    "        analysis_results = []\n",
    "        for fold in folds:\n",
    "            backtest_id = start_backtest(make_request(strategy_name, fold))\n",
    "            wait_for_backtest(backtest_id)\n",
    "            analysis_results.append(\n",
    "                analyze_backtest(backtest_id)\n",
    "            )\n",
    "            \n",
    "        combined_details = BacktestAnalysis(\n",
    "            total_return=sum(a.total_return for a in analysis_results) / len(analysis_results),\n",
    "            investments_count=sum(a.investments_count for a in analysis_results) / len(analysis_results),\n",
    "            avg_investment_length=sum(a.avg_investment_length for a in analysis_results) / len(analysis_results),\n",
    "            positive_investment_ratio=sum(a.positive_investment_ratio for a in analysis_results) / len(analysis_results),\n",
    "            portfolio_states=None,\n",
    "            investments=None\n",
    "        )\n",
    "        \n",
    "        print_analysis(f\"folds_err_{(prediction_error*100):.2f}_{strategy_name.lower().replace(' strategy', '').replace(' ', '_')}\", combined_details)"
   ],
   "metadata": {
    "collapsed": false
   },
   "id": "e936e5c3b9b5e9af"
  },
  {
   "cell_type": "markdown",
   "source": [
    "### Strategy backtests "
   ],
   "metadata": {
    "collapsed": false
   },
   "id": "e8e2c34f697e9614"
  },
  {
   "cell_type": "code",
   "execution_count": null,
   "outputs": [],
   "source": [
    "run_backtests_for_strategies(symbols=-1, skip=0, prediction_error=0)"
   ],
   "metadata": {
    "collapsed": false
   },
   "id": "841691b9361cae29"
  },
  {
   "cell_type": "code",
   "outputs": [],
   "source": [
    "run_backtests_with_folds(prediction_error=0)"
   ],
   "metadata": {
    "collapsed": false
   },
   "id": "d5e8743f202f34db",
   "execution_count": null
  },
  {
   "cell_type": "code",
   "outputs": [],
   "source": [
    "for error in [0.01, 0.05, 0.1, 0.2]:\n",
    "    run_backtests_with_folds(prediction_error=error, strategies=[\n",
    "        \"Basic strategy\",\n",
    "        \"Greedy optimal strategy\",\n",
    "        \"Overreaction strategy with predictions\",\n",
    "        \"Trend following strategy with predictions\",\n",
    "        \"PCA strategy with predictions\"\n",
    "    ])"
   ],
   "metadata": {
    "collapsed": false
   },
   "id": "4cdc657df49a2c0a",
   "execution_count": null
  },
  {
   "cell_type": "code",
   "outputs": [],
   "source": [
    "for error in [0.01, 0.05, 0.1, 0.2]:\n",
    "    run_backtests_for_strategies(symbols=-1, skip=0, prediction_error=error, strategies=[\n",
    "        \"Basic strategy\",\n",
    "        \"Greedy optimal strategy\",\n",
    "        \"Overreaction strategy with predictions\",\n",
    "        \"Trend following strategy with predictions\",\n",
    "        \"PCA strategy with predictions\"\n",
    "    ])"
   ],
   "metadata": {
    "collapsed": false
   },
   "id": "3b07c50c23236e48",
   "execution_count": null
  },
  {
   "cell_type": "markdown",
   "source": [
    "### Plots"
   ],
   "metadata": {
    "collapsed": false
   },
   "id": "6bef6f4f690afc60"
  },
  {
   "cell_type": "code",
   "outputs": [],
   "source": [
    "all_backtests = get_backtest_ids()"
   ],
   "metadata": {
    "collapsed": false
   },
   "id": "af0dc3c85354624e",
   "execution_count": null
  },
  {
   "cell_type": "code",
   "outputs": [],
   "source": [
    "{k: v for k, v in all_backtests.items() if \"(0/-1)\" in k and \" 0.000%\" in k}"
   ],
   "metadata": {
    "collapsed": false
   },
   "id": "1ff48dc624da99ae",
   "execution_count": null
  },
  {
   "cell_type": "code",
   "outputs": [],
   "source": [
    "backtests_per_strategy = {\n",
    "    \"Basic\": \"ee6113e2-90b8-40d4-b72e-43d9bf214012\",\n",
    "    \"Greedy\": \"0c3702fe-e897-4f9b-a166-f93ea5474d5f\",\n",
    "    \"Buy Losers\": \"3c1df575-6813-4baf-9c5b-020b0d3a041a\",\n",
    "    \"Buy Losers with Predictions\": \"cd6e9e59-3a09-4ae1-9850-57f16e248f74\",\n",
    "    \"Buy Winners\": \"e00a4317-a327-41b2-9464-abab72257c8a\",\n",
    "    \"Buy Winners with Predictions\": \"89ffe84b-82fa-43be-bf8b-c0078a97a003\",\n",
    "    \"PCA\": \"437bcd3b-f846-4a71-b2eb-0cd8626a1916\",\n",
    "    \"PCA with Predictions\": \"721406c3-5d3e-4ffe-9eb1-1ae4eb2ae302\"\n",
    "}\n",
    "\n",
    "def make_subplot(axis, title):\n",
    "    backtest_id = backtests_per_strategy[title]\n",
    "    \n",
    "    axis.set_title(title)\n",
    "    axis.set_ylabel(\"Return [%]\")\n",
    "    \n",
    "    assets_states = fetch_portfolio_states(backtest_id)\n",
    "    portfolio_values = [state.assets.equityValue / 1000 - 100 for state in assets_states]\n",
    "    dates = [state.createdAt for state in assets_states]\n",
    "    axis.plot(dates, portfolio_values)\n",
    "    axis.set_xticks(axis.get_xticks()[::3])\n",
    "\n",
    "figure, axes = plt.subplots(nrows=4, ncols=2, figsize=(10, 15))\n",
    "figure.tight_layout()\n",
    "\n",
    "make_subplot(axes[0, 0], \"Basic\")\n",
    "make_subplot(axes[0, 1], \"Greedy\")\n",
    "make_subplot(axes[1, 0], \"Buy Losers\")\n",
    "make_subplot(axes[1, 1], \"Buy Losers with Predictions\")\n",
    "make_subplot(axes[2, 0], \"Buy Winners\")\n",
    "make_subplot(axes[2, 1], \"Buy Winners with Predictions\")\n",
    "make_subplot(axes[3, 0], \"PCA\")\n",
    "make_subplot(axes[3, 1], \"PCA with Predictions\")\n",
    "\n",
    "plt.subplots_adjust(hspace=0.17, wspace=0.25)\n",
    "plt.show()"
   ],
   "metadata": {
    "collapsed": false
   },
   "id": "e4f9c66c6e50080f",
   "execution_count": null
  },
  {
   "cell_type": "markdown",
   "source": [
    "### Bayes search"
   ],
   "metadata": {
    "collapsed": false
   },
   "id": "eb5ad2fbacfd215e"
  },
  {
   "cell_type": "code",
   "outputs": [],
   "source": [
    "from bayes import perform_bayes_search\n",
    "from skopt.space import Real, Integer\n",
    "\n",
    "params_per_strategy = {\n",
    "    \"Basic strategy\": {\n",
    "        \"maxStocksBuyCount\": Integer(low=1, high=20),\n",
    "        \"minDaysDecreasing\": Integer(low=1, high=5),\n",
    "        \"minDaysIncreasing\": Integer(low=1, high=5),\n",
    "        \"topGrowingSymbolsBuyRatio\": Real(low=0.1, high=0.9),\n",
    "        \"limitPriceDamping\": Real(low=0, high=0.9)\n",
    "    },\n",
    "    \"Overreaction strategy\": {\n",
    "        \"evaluationFrequencyInDays\": Integer(low=7, high=90),\n",
    "        \"analysisLengthInDays\": Integer(low=7, high=90)\n",
    "    },\n",
    "    \"Overreaction strategy with predictions\": {\n",
    "        \"evaluationFrequencyInDays\": Integer(low=7, high=90),\n",
    "        \"analysisLengthInDays\": Integer(low=7, high=90),\n",
    "        \"limitPriceDamping\":Real(low=0, high=0.9)\n",
    "    },\n",
    "    \"Trend following strategy\": {\n",
    "        \"evaluationFrequencyInDays\": Integer(low=30, high=90),\n",
    "        \"analysisLengthInDays\": Integer(low=30, high=360),\n",
    "        \"simultaneousEvaluations\": Integer(low=1, high=5),\n",
    "        \"buyWaitTimeInDays\": Integer(low=0, high=14)\n",
    "    },\n",
    "    \"Trend following strategy with predictions\": {\n",
    "        \"evaluationFrequencyInDays\": Integer(low=30, high=90),\n",
    "        \"analysisLengthInDays\": Integer(low=30, high=360),\n",
    "        \"simultaneousEvaluations\": Integer(low=1, high=5),\n",
    "        \"buyWaitTimeInDays\": Integer(low=0, high=14),\n",
    "        \"limitPriceDamping\": Real(low=0, high=0.9)\n",
    "    },\n",
    "    \"PCA strategy\": {\n",
    "        \"varianceFraction\": Real(low=0.95, high=0.99),\n",
    "        \"analysisLengthInDays\": Integer(low=30, high=360),\n",
    "        \"decompositionExpirationInDays\": Integer(low=3, high=20),\n",
    "        \"undervaluedThreshold\": Real(low=0.5, high=3),\n",
    "        \"ignoredThreshold\": [0.75],\n",
    "        \"diverseThreshold\": Real(low=0.01, high=0.5)\n",
    "    },\n",
    "    \"PCA strategy with predictions\": {\n",
    "        \"varianceFraction\": Real(low=0.95, high=0.99),\n",
    "        \"analysisLengthInDays\": Integer(low=30, high=360),\n",
    "        \"decompositionExpirationInDays\": Integer(low=3, high=20),\n",
    "        \"undervaluedThreshold\": Real(low=0.5, high=3),\n",
    "        \"diverseThreshold\": Real(low=0.01, high=0.5),\n",
    "        \"ignoredThreshold\": [0.75],\n",
    "        \"limitPriceDamping\": Real(low=0, high=0.9)\n",
    "    }\n",
    "}"
   ],
   "metadata": {
    "collapsed": false,
    "ExecuteTime": {
     "end_time": "2024-04-28T18:56:11.573083900Z",
     "start_time": "2024-04-28T18:56:09.149400Z"
    }
   },
   "id": "b3f87ce83fef64c0",
   "execution_count": 10
  },
  {
   "cell_type": "code",
   "execution_count": 11,
   "outputs": [],
   "source": [
    "class BayesResult:\n",
    "    def __init__(self, best_params, search_score, reevaluated_score):\n",
    "        self.best_params = best_params\n",
    "        self.search_score = search_score\n",
    "        self.reevaluated_score = reevaluated_score\n",
    "\n",
    "def run_bayes_search(params_to_try, iterations, symbols_per_fold=200, prediction_error=0, \n",
    "                     folds=5, strategies=None):\n",
    "    \n",
    "    results = {}\n",
    "    \n",
    "    for strategy, params in params_to_try.items():\n",
    "        \n",
    "        if (strategies is not None) and (strategy not in strategies):\n",
    "            continue\n",
    "        \n",
    "        print(f\"--> Performing search for [{strategy}]...\")\n",
    "        \n",
    "        best_params, best_score = perform_bayes_search(\n",
    "            strategy,\n",
    "            params,\n",
    "            iterations,\n",
    "            prediction_error=prediction_error,\n",
    "            symbols=symbols_per_fold,\n",
    "            folds=folds\n",
    "        )\n",
    "        \n",
    "        print(f\"\\tBest score: {(best_score * 100):.2f}% for parameters\")\n",
    "        for k, v in best_params.items():\n",
    "            print(f\"\\t\\t{k} = {(v if v == int(v) else f'{v:.4f}')}\")\n",
    "            \n",
    "        set_strategy_parameters(strategy, best_params)\n",
    "        backtest_id = start_backtest(BacktestRequest(\n",
    "            strategy=strategy,\n",
    "            symbols=symbols_per_fold*folds,\n",
    "            skip=0,\n",
    "            use_predictor=False,\n",
    "            avg_prediction_error=prediction_error\n",
    "        ))\n",
    "        \n",
    "        if not wait_for_backtest(backtest_id, quiet=True):\n",
    "            print(f\"\\tReevaluation failed ({backtest_id})\")\n",
    "            results[strategy] = BayesResult(best_score, best_params, -1)\n",
    "            continue\n",
    "        \n",
    "        reevaluation_score = get_backtest_return(backtest_id)\n",
    "        print(f\"\\tReevaluation score: {(reevaluation_score*100):.2f}%\")\n",
    "        results[strategy] = BayesResult(best_params, best_score, reevaluation_score)\n",
    "        \n",
    "    print(\"\\n\\n--- RESULTS ---\")\n",
    "    for strategy, result in results.items():\n",
    "        print(f\"{strategy}: {(result.search_score*100):.2f}%/{(result.reevaluated_score*100):.2f}%\")\n",
    "        for k, v in result.best_params.items():\n",
    "            print(f\"\\t{k} = {(v if v == int(v) else f'{v:.4f}')}\")"
   ],
   "metadata": {
    "collapsed": false,
    "ExecuteTime": {
     "end_time": "2024-04-28T18:56:11.579480600Z",
     "start_time": "2024-04-28T18:56:11.573083900Z"
    }
   },
   "id": "3350d15c7b3b04c6"
  },
  {
   "cell_type": "code",
   "outputs": [],
   "source": [
    "run_bayes_search(params_per_strategy, 20, symbols_per_fold=1000, prediction_error=0, folds=3, strategies=[\n",
    "    \"Basic strategy\",\n",
    "    \"Overreaction strategy\",\n",
    "    \"Overreaction strategy with predictions\",\n",
    "    \"Trend following strategy\",\n",
    "    \"Trend following strategy with predictions\",\n",
    "    \"PCA strategy\",\n",
    "    \"PCA strategy with predictions\"\n",
    "])"
   ],
   "metadata": {
    "collapsed": false
   },
   "id": "79b21cc7b0cbbd76",
   "execution_count": null
  },
  {
   "cell_type": "code",
   "outputs": [],
   "source": [
    "run_bayes_search(params_per_strategy, 20, symbols_per_fold=1000, prediction_error=0.1, folds=3, strategies=[\n",
    "    \"Basic strategy\",\n",
    "    \"Overreaction strategy with predictions\",\n",
    "    \"Trend following strategy with predictions\",\n",
    "    \"PCA strategy with predictions\"\n",
    "])"
   ],
   "metadata": {
    "collapsed": false
   },
   "id": "2a985953f7ba362a",
   "execution_count": null
  },
  {
   "cell_type": "code",
   "outputs": [],
   "source": [
    "def perform_reevaluation(params_to_try, symbols, prediction_error):\n",
    "   for strategy, best_params in params_to_try.items():\n",
    "        print(f\"--> Performing search for [{strategy}]...\")\n",
    "            \n",
    "        set_strategy_parameters(strategy, best_params)\n",
    "        backtest_id = start_backtest(BacktestRequest(\n",
    "            strategy=strategy,\n",
    "            symbols=symbols,\n",
    "            skip=0,\n",
    "            use_predictor=False,\n",
    "            avg_prediction_error=prediction_error\n",
    "        ))\n",
    "        \n",
    "        if not wait_for_backtest(backtest_id, quiet=True):\n",
    "            print(f\"\\tReevaluation failed ({backtest_id})\")\n",
    "            continue\n",
    "        \n",
    "        reevaluation_score = get_backtest_return(backtest_id)\n",
    "        print(f\"\\tReevaluation score: {(reevaluation_score*100):.2f}%\")"
   ],
   "metadata": {
    "collapsed": false,
    "ExecuteTime": {
     "end_time": "2024-04-28T18:56:11.767581900Z",
     "start_time": "2024-04-28T18:56:11.759389Z"
    }
   },
   "id": "4cbaef17b349ca3c",
   "execution_count": 12
  },
  {
   "cell_type": "code",
   "outputs": [],
   "source": [
    "best_params_no_error = {\n",
    "    \"Basic strategy\": {\n",
    "        \"maxStocksBuyCount\": 12,\n",
    "        \"minDaysDecreasing\": 2,\n",
    "        \"minDaysIncreasing\": 2,\n",
    "        \"topGrowingSymbolsBuyRatio\": 0.8129,\n",
    "        \"limitPriceDamping\": 0.0103\n",
    "    },\n",
    "    \"Overreaction strategy\": {\n",
    "        \"evaluationFrequencyInDays\": 10,\n",
    "        \"analysisLengthInDays\": 90\n",
    "    },\n",
    "    \"Overreaction strategy with predictions\": {\n",
    "        \"evaluationFrequencyInDays\": 7,\n",
    "        \"analysisLengthInDays\": 7,\n",
    "        \"limitPriceDamping\": 0\n",
    "    },\n",
    "    \"Trend following strategy\": {\n",
    "        \"evaluationFrequencyInDays\": 73,\n",
    "        \"analysisLengthInDays\": 173,\n",
    "        \"simultaneousEvaluations\": 5,\n",
    "        \"buyWaitTimeInDays\": 1\n",
    "    },\n",
    "    \"Trend following strategy with predictions\": {\n",
    "        \"evaluationFrequencyInDays\": 30,\n",
    "        \"analysisLengthInDays\": 30,\n",
    "        \"simultaneousEvaluations\": 1,\n",
    "        \"buyWaitTimeInDays\": 0,\n",
    "        \"limitPriceDamping\": 0\n",
    "    },\n",
    "    \"PCA strategy\": {\n",
    "        \"varianceFraction\": 0.9636,\n",
    "        \"analysisLengthInDays\": 43,\n",
    "        \"decompositionExpirationInDays\": 10,\n",
    "        \"undervaluedThreshold\": 0.5996,\n",
    "        \"ignoredThreshold\": 0.75,\n",
    "        \"diverseThreshold\": 0.4925\n",
    "    }\n",
    "}\n",
    "best_params_with_error = {\n",
    "    \"Basic strategy\": {\n",
    "        \"maxStocksBuyCount\": 20,\n",
    "        \"minDaysDecreasing\": 4,\n",
    "        \"minDaysIncreasing\": 5,\n",
    "        \"topGrowingSymbolsBuyRatio\": 0.9,\n",
    "        \"limitPriceDamping\": 0.9\n",
    "    },\n",
    "    \"Overreaction strategy with predictions\": {\n",
    "        \"evaluationFrequencyInDays\": 83,\n",
    "        \"analysisLengthInDays\": 30,\n",
    "        \"limitPriceDamping\": 0.2705\n",
    "    },\n",
    "    \"Trend following strategy with predictions\": {\n",
    "        \"evaluationFrequencyInDays\": 90,\n",
    "        \"analysisLengthInDays\": 360,\n",
    "        \"simultaneousEvaluations\": 5,\n",
    "        \"buyWaitTimeInDays\": 14,\n",
    "        \"limitPriceDamping\": 0.9\n",
    "    }\n",
    "}"
   ],
   "metadata": {
    "collapsed": false
   },
   "id": "12d135bcecbf1657",
   "execution_count": null
  },
  {
   "cell_type": "code",
   "outputs": [],
   "source": [
    "perform_reevaluation(best_params_no_error, symbols=3000, prediction_error=0)"
   ],
   "metadata": {
    "collapsed": false
   },
   "id": "c7b02dcc91699c75",
   "execution_count": null
  },
  {
   "cell_type": "code",
   "outputs": [],
   "source": [
    "perform_reevaluation(best_params_with_error, symbols=3000, prediction_error=0.1)"
   ],
   "metadata": {
    "collapsed": false
   },
   "id": "9a56360e91c8d358",
   "execution_count": null
  },
  {
   "cell_type": "markdown",
   "source": [
    "### Final tests"
   ],
   "metadata": {
    "collapsed": false
   },
   "id": "356f8dba3be908a6"
  },
  {
   "cell_type": "code",
   "outputs": [],
   "source": [
    "def run_backtests_with_predictor(parameters):\n",
    "    def make_request(strategy):\n",
    "        return BacktestRequest(\n",
    "            strategy=strategy,\n",
    "            symbols=-1,\n",
    "            skip=0,\n",
    "            use_predictor=True,\n",
    "            avg_prediction_error=0\n",
    "        )\n",
    "    \n",
    "    for strategy_name, params in parameters.items():\n",
    "        set_strategy_parameters(strategy_name, params)\n",
    "        backtest_id = start_backtest(make_request(strategy_name))\n",
    "        wait_for_backtest(backtest_id)\n",
    "        analysis = analyze_backtest(backtest_id)\n",
    "        \n",
    "        name=f\"pred_{strategy_name.lower().replace(' strategy', '').replace(' ', '_')}\"\n",
    "        print_analysis(name, analysis)\n",
    "        plot_portfolio_value(analysis.portfolio_states, name, show=False)\n",
    "        \n",
    "def run_backtests_with_predictor_with_folds(parameters):\n",
    "    def make_request(name, fold):\n",
    "        return BacktestRequest(\n",
    "            strategy=name,\n",
    "            symbols=1100,\n",
    "            skip=fold*1100,\n",
    "            use_predictor=True,\n",
    "            avg_prediction_error=0\n",
    "        )\n",
    "    \n",
    "    folds = list(range(5))\n",
    "    for strategy_name, params in parameters.items():\n",
    "        analysis_results = []\n",
    "        \n",
    "        set_strategy_parameters(strategy_name, parameters)\n",
    "        for fold in folds:\n",
    "            backtest_id = start_backtest(make_request(strategy_name, fold))\n",
    "            wait_for_backtest(backtest_id)\n",
    "            analysis_results.append(\n",
    "                analyze_backtest(backtest_id)\n",
    "            )\n",
    "            \n",
    "        combined_details = BacktestAnalysis(\n",
    "            total_return=sum(a.total_return for a in analysis_results) / len(analysis_results),\n",
    "            investments_count=sum(a.investments_count for a in analysis_results) / len(analysis_results),\n",
    "            avg_investment_length=sum(a.avg_investment_length for a in analysis_results) / len(analysis_results),\n",
    "            positive_investment_ratio=sum(a.positive_investment_ratio for a in analysis_results) / len(analysis_results),\n",
    "            portfolio_states=None,\n",
    "            investments=None\n",
    "        )\n",
    "        \n",
    "        print_analysis(f\"pred_folds_{strategy_name.lower().replace(' strategy', '').replace(' ', '_')}\", combined_details)"
   ],
   "metadata": {
    "collapsed": false,
    "ExecuteTime": {
     "end_time": "2024-04-28T21:45:57.227272Z",
     "start_time": "2024-04-28T21:45:57.219984100Z"
    }
   },
   "id": "52df0a59d902ff08",
   "execution_count": 18
  },
  {
   "cell_type": "code",
   "outputs": [],
   "source": [
    "default_params = {\n",
    "    \"Basic strategy\": {\n",
    "        \"maxStocksBuyCount\": 10,\n",
    "        \"minDaysDecreasing\": 5,\n",
    "        \"minDaysIncreasing\": 5,\n",
    "        \"topGrowingSymbolsBuyRatio\": 0.4,\n",
    "        \"limitPriceDamping\": 0.5\n",
    "    },\n",
    "    \"Overreaction strategy\": {\n",
    "        \"evaluationFrequencyInDays\": 30,\n",
    "        \"analysisLengthInDays\": 30\n",
    "    },\n",
    "    \"Overreaction strategy with predictions\": {\n",
    "        \"evaluationFrequencyInDays\": 30,\n",
    "        \"analysisLengthInDays\": 30,\n",
    "        \"limitPriceDamping\": 0.5\n",
    "    },\n",
    "    \"Trend following strategy\": {\n",
    "        \"evaluationFrequencyInDays\": 30,\n",
    "        \"analysisLengthInDays\": 360,\n",
    "        \"simultaneousEvaluations\": 3,\n",
    "        \"buyWaitTimeInDays\": 7\n",
    "    },\n",
    "    \"Trend following strategy with predictions\": {\n",
    "        \"evaluationFrequencyInDays\": 30,\n",
    "        \"analysisLengthInDays\": 360,\n",
    "        \"simultaneousEvaluations\": 3,\n",
    "        \"buyWaitTimeInDays\": 7,\n",
    "        \"limitPriceDamping\": 0.5\n",
    "    },\n",
    "    # \"PCA strategy\": {\n",
    "    #     \"varianceFraction\": 0.9636,\n",
    "    #     \"analysisLengthInDays\": 43,\n",
    "    #     \"decompositionExpirationInDays\": 10,\n",
    "    #     \"undervaluedThreshold\": 0.5996,\n",
    "    #     \"ignoredThreshold\": 0.75,\n",
    "    #     \"diverseThreshold\": 0.4925\n",
    "    # },\n",
    "    # \"PCA strategy with predictions\": {\n",
    "    #     \"varianceFraction\": 0.9,\n",
    "    #     \"analysisLengthInDays\": 90,\n",
    "    #     \"decompositionExpirationInDays\": 7,\n",
    "    #     \"undervaluedThreshold\": 1,\n",
    "    #     \"ignoredThreshold\": 0.75,\n",
    "    #     \"diverseThreshold\": 0.5,\n",
    "    #     \"limitPriceDamping\": 0.5\n",
    "    # }\n",
    "}"
   ],
   "metadata": {
    "collapsed": false,
    "ExecuteTime": {
     "end_time": "2024-04-28T18:56:15.690608300Z",
     "start_time": "2024-04-28T18:56:15.688478Z"
    }
   },
   "id": "9bade84a06fa3ea5",
   "execution_count": 14
  },
  {
   "cell_type": "code",
   "outputs": [
    {
     "name": "stdout",
     "output_type": "stream",
     "text": [
      "Waiting for backtest 018ab5b2-cbaa-450d-b6e7-95fd81f6acbd\n",
      "-> BACKTEST pred_basic\n",
      "\tReturn:                     16.321%\n",
      "\tInvestments:                601\n",
      "\t Avg investment length:     48.090 days\n",
      "\t Positive investment ratio: 56.24%\n",
      "Waiting for backtest d2deeddd-a5d9-485a-968d-01061975a294\n",
      "-> BACKTEST pred_overreaction\n",
      "\tReturn:                     3.419%\n",
      "\tInvestments:                9736\n",
      "\t Avg investment length:     34.559 days\n",
      "\t Positive investment ratio: 40.84%\n",
      "Waiting for backtest 42a83941-1d53-47e9-b521-aa4dd54160e6\n",
      "-> BACKTEST pred_overreaction_with_predictions\n",
      "\tReturn:                     -8.990%\n",
      "\tInvestments:                475\n",
      "\t Avg investment length:     729.554 days\n",
      "\t Positive investment ratio: 25.68%\n",
      "Waiting for backtest 27e0d539-1075-4325-8f10-b4aadd97d90c\n"
     ]
    },
    {
     "ename": "ConnectionError",
     "evalue": "HTTPConnectionPool(host='localhost', port=5000): Max retries exceeded with url: /api/backtests/27e0d539-1075-4325-8f10-b4aadd97d90c (Caused by NewConnectionError('<urllib3.connection.HTTPConnection object at 0x00000295664F6C90>: Failed to establish a new connection: [WinError 10048] Only one usage of each socket address (protocol/network address/port) is normally permitted'))",
     "output_type": "error",
     "traceback": [
      "\u001B[1;31m---------------------------------------------------------------------------\u001B[0m",
      "\u001B[1;31mOSError\u001B[0m                                   Traceback (most recent call last)",
      "File \u001B[1;32m~\\RiderProjects\\ML-Trading\\Analysis\\venv\\Lib\\site-packages\\urllib3\\connection.py:198\u001B[0m, in \u001B[0;36mHTTPConnection._new_conn\u001B[1;34m(self)\u001B[0m\n\u001B[0;32m    197\u001B[0m \u001B[38;5;28;01mtry\u001B[39;00m:\n\u001B[1;32m--> 198\u001B[0m     sock \u001B[38;5;241m=\u001B[39m \u001B[43mconnection\u001B[49m\u001B[38;5;241;43m.\u001B[39;49m\u001B[43mcreate_connection\u001B[49m\u001B[43m(\u001B[49m\n\u001B[0;32m    199\u001B[0m \u001B[43m        \u001B[49m\u001B[43m(\u001B[49m\u001B[38;5;28;43mself\u001B[39;49m\u001B[38;5;241;43m.\u001B[39;49m\u001B[43m_dns_host\u001B[49m\u001B[43m,\u001B[49m\u001B[43m \u001B[49m\u001B[38;5;28;43mself\u001B[39;49m\u001B[38;5;241;43m.\u001B[39;49m\u001B[43mport\u001B[49m\u001B[43m)\u001B[49m\u001B[43m,\u001B[49m\n\u001B[0;32m    200\u001B[0m \u001B[43m        \u001B[49m\u001B[38;5;28;43mself\u001B[39;49m\u001B[38;5;241;43m.\u001B[39;49m\u001B[43mtimeout\u001B[49m\u001B[43m,\u001B[49m\n\u001B[0;32m    201\u001B[0m \u001B[43m        \u001B[49m\u001B[43msource_address\u001B[49m\u001B[38;5;241;43m=\u001B[39;49m\u001B[38;5;28;43mself\u001B[39;49m\u001B[38;5;241;43m.\u001B[39;49m\u001B[43msource_address\u001B[49m\u001B[43m,\u001B[49m\n\u001B[0;32m    202\u001B[0m \u001B[43m        \u001B[49m\u001B[43msocket_options\u001B[49m\u001B[38;5;241;43m=\u001B[39;49m\u001B[38;5;28;43mself\u001B[39;49m\u001B[38;5;241;43m.\u001B[39;49m\u001B[43msocket_options\u001B[49m\u001B[43m,\u001B[49m\n\u001B[0;32m    203\u001B[0m \u001B[43m    \u001B[49m\u001B[43m)\u001B[49m\n\u001B[0;32m    204\u001B[0m \u001B[38;5;28;01mexcept\u001B[39;00m socket\u001B[38;5;241m.\u001B[39mgaierror \u001B[38;5;28;01mas\u001B[39;00m e:\n",
      "File \u001B[1;32m~\\RiderProjects\\ML-Trading\\Analysis\\venv\\Lib\\site-packages\\urllib3\\util\\connection.py:85\u001B[0m, in \u001B[0;36mcreate_connection\u001B[1;34m(address, timeout, source_address, socket_options)\u001B[0m\n\u001B[0;32m     84\u001B[0m \u001B[38;5;28;01mtry\u001B[39;00m:\n\u001B[1;32m---> 85\u001B[0m     \u001B[38;5;28;01mraise\u001B[39;00m err\n\u001B[0;32m     86\u001B[0m \u001B[38;5;28;01mfinally\u001B[39;00m:\n\u001B[0;32m     87\u001B[0m     \u001B[38;5;66;03m# Break explicitly a reference cycle\u001B[39;00m\n",
      "File \u001B[1;32m~\\RiderProjects\\ML-Trading\\Analysis\\venv\\Lib\\site-packages\\urllib3\\util\\connection.py:73\u001B[0m, in \u001B[0;36mcreate_connection\u001B[1;34m(address, timeout, source_address, socket_options)\u001B[0m\n\u001B[0;32m     72\u001B[0m     sock\u001B[38;5;241m.\u001B[39mbind(source_address)\n\u001B[1;32m---> 73\u001B[0m sock\u001B[38;5;241m.\u001B[39mconnect(sa)\n\u001B[0;32m     74\u001B[0m \u001B[38;5;66;03m# Break explicitly a reference cycle\u001B[39;00m\n",
      "\u001B[1;31mOSError\u001B[0m: [WinError 10048] Only one usage of each socket address (protocol/network address/port) is normally permitted",
      "\nThe above exception was the direct cause of the following exception:\n",
      "\u001B[1;31mNewConnectionError\u001B[0m                        Traceback (most recent call last)",
      "File \u001B[1;32m~\\RiderProjects\\ML-Trading\\Analysis\\venv\\Lib\\site-packages\\urllib3\\connectionpool.py:793\u001B[0m, in \u001B[0;36mHTTPConnectionPool.urlopen\u001B[1;34m(self, method, url, body, headers, retries, redirect, assert_same_host, timeout, pool_timeout, release_conn, chunked, body_pos, preload_content, decode_content, **response_kw)\u001B[0m\n\u001B[0;32m    792\u001B[0m \u001B[38;5;66;03m# Make the request on the HTTPConnection object\u001B[39;00m\n\u001B[1;32m--> 793\u001B[0m response \u001B[38;5;241m=\u001B[39m \u001B[38;5;28;43mself\u001B[39;49m\u001B[38;5;241;43m.\u001B[39;49m\u001B[43m_make_request\u001B[49m\u001B[43m(\u001B[49m\n\u001B[0;32m    794\u001B[0m \u001B[43m    \u001B[49m\u001B[43mconn\u001B[49m\u001B[43m,\u001B[49m\n\u001B[0;32m    795\u001B[0m \u001B[43m    \u001B[49m\u001B[43mmethod\u001B[49m\u001B[43m,\u001B[49m\n\u001B[0;32m    796\u001B[0m \u001B[43m    \u001B[49m\u001B[43murl\u001B[49m\u001B[43m,\u001B[49m\n\u001B[0;32m    797\u001B[0m \u001B[43m    \u001B[49m\u001B[43mtimeout\u001B[49m\u001B[38;5;241;43m=\u001B[39;49m\u001B[43mtimeout_obj\u001B[49m\u001B[43m,\u001B[49m\n\u001B[0;32m    798\u001B[0m \u001B[43m    \u001B[49m\u001B[43mbody\u001B[49m\u001B[38;5;241;43m=\u001B[39;49m\u001B[43mbody\u001B[49m\u001B[43m,\u001B[49m\n\u001B[0;32m    799\u001B[0m \u001B[43m    \u001B[49m\u001B[43mheaders\u001B[49m\u001B[38;5;241;43m=\u001B[39;49m\u001B[43mheaders\u001B[49m\u001B[43m,\u001B[49m\n\u001B[0;32m    800\u001B[0m \u001B[43m    \u001B[49m\u001B[43mchunked\u001B[49m\u001B[38;5;241;43m=\u001B[39;49m\u001B[43mchunked\u001B[49m\u001B[43m,\u001B[49m\n\u001B[0;32m    801\u001B[0m \u001B[43m    \u001B[49m\u001B[43mretries\u001B[49m\u001B[38;5;241;43m=\u001B[39;49m\u001B[43mretries\u001B[49m\u001B[43m,\u001B[49m\n\u001B[0;32m    802\u001B[0m \u001B[43m    \u001B[49m\u001B[43mresponse_conn\u001B[49m\u001B[38;5;241;43m=\u001B[39;49m\u001B[43mresponse_conn\u001B[49m\u001B[43m,\u001B[49m\n\u001B[0;32m    803\u001B[0m \u001B[43m    \u001B[49m\u001B[43mpreload_content\u001B[49m\u001B[38;5;241;43m=\u001B[39;49m\u001B[43mpreload_content\u001B[49m\u001B[43m,\u001B[49m\n\u001B[0;32m    804\u001B[0m \u001B[43m    \u001B[49m\u001B[43mdecode_content\u001B[49m\u001B[38;5;241;43m=\u001B[39;49m\u001B[43mdecode_content\u001B[49m\u001B[43m,\u001B[49m\n\u001B[0;32m    805\u001B[0m \u001B[43m    \u001B[49m\u001B[38;5;241;43m*\u001B[39;49m\u001B[38;5;241;43m*\u001B[39;49m\u001B[43mresponse_kw\u001B[49m\u001B[43m,\u001B[49m\n\u001B[0;32m    806\u001B[0m \u001B[43m\u001B[49m\u001B[43m)\u001B[49m\n\u001B[0;32m    808\u001B[0m \u001B[38;5;66;03m# Everything went great!\u001B[39;00m\n",
      "File \u001B[1;32m~\\RiderProjects\\ML-Trading\\Analysis\\venv\\Lib\\site-packages\\urllib3\\connectionpool.py:496\u001B[0m, in \u001B[0;36mHTTPConnectionPool._make_request\u001B[1;34m(self, conn, method, url, body, headers, retries, timeout, chunked, response_conn, preload_content, decode_content, enforce_content_length)\u001B[0m\n\u001B[0;32m    495\u001B[0m \u001B[38;5;28;01mtry\u001B[39;00m:\n\u001B[1;32m--> 496\u001B[0m     \u001B[43mconn\u001B[49m\u001B[38;5;241;43m.\u001B[39;49m\u001B[43mrequest\u001B[49m\u001B[43m(\u001B[49m\n\u001B[0;32m    497\u001B[0m \u001B[43m        \u001B[49m\u001B[43mmethod\u001B[49m\u001B[43m,\u001B[49m\n\u001B[0;32m    498\u001B[0m \u001B[43m        \u001B[49m\u001B[43murl\u001B[49m\u001B[43m,\u001B[49m\n\u001B[0;32m    499\u001B[0m \u001B[43m        \u001B[49m\u001B[43mbody\u001B[49m\u001B[38;5;241;43m=\u001B[39;49m\u001B[43mbody\u001B[49m\u001B[43m,\u001B[49m\n\u001B[0;32m    500\u001B[0m \u001B[43m        \u001B[49m\u001B[43mheaders\u001B[49m\u001B[38;5;241;43m=\u001B[39;49m\u001B[43mheaders\u001B[49m\u001B[43m,\u001B[49m\n\u001B[0;32m    501\u001B[0m \u001B[43m        \u001B[49m\u001B[43mchunked\u001B[49m\u001B[38;5;241;43m=\u001B[39;49m\u001B[43mchunked\u001B[49m\u001B[43m,\u001B[49m\n\u001B[0;32m    502\u001B[0m \u001B[43m        \u001B[49m\u001B[43mpreload_content\u001B[49m\u001B[38;5;241;43m=\u001B[39;49m\u001B[43mpreload_content\u001B[49m\u001B[43m,\u001B[49m\n\u001B[0;32m    503\u001B[0m \u001B[43m        \u001B[49m\u001B[43mdecode_content\u001B[49m\u001B[38;5;241;43m=\u001B[39;49m\u001B[43mdecode_content\u001B[49m\u001B[43m,\u001B[49m\n\u001B[0;32m    504\u001B[0m \u001B[43m        \u001B[49m\u001B[43menforce_content_length\u001B[49m\u001B[38;5;241;43m=\u001B[39;49m\u001B[43menforce_content_length\u001B[49m\u001B[43m,\u001B[49m\n\u001B[0;32m    505\u001B[0m \u001B[43m    \u001B[49m\u001B[43m)\u001B[49m\n\u001B[0;32m    507\u001B[0m \u001B[38;5;66;03m# We are swallowing BrokenPipeError (errno.EPIPE) since the server is\u001B[39;00m\n\u001B[0;32m    508\u001B[0m \u001B[38;5;66;03m# legitimately able to close the connection after sending a valid response.\u001B[39;00m\n\u001B[0;32m    509\u001B[0m \u001B[38;5;66;03m# With this behaviour, the received response is still readable.\u001B[39;00m\n",
      "File \u001B[1;32m~\\RiderProjects\\ML-Trading\\Analysis\\venv\\Lib\\site-packages\\urllib3\\connection.py:400\u001B[0m, in \u001B[0;36mHTTPConnection.request\u001B[1;34m(self, method, url, body, headers, chunked, preload_content, decode_content, enforce_content_length)\u001B[0m\n\u001B[0;32m    399\u001B[0m     \u001B[38;5;28mself\u001B[39m\u001B[38;5;241m.\u001B[39mputheader(header, value)\n\u001B[1;32m--> 400\u001B[0m \u001B[38;5;28;43mself\u001B[39;49m\u001B[38;5;241;43m.\u001B[39;49m\u001B[43mendheaders\u001B[49m\u001B[43m(\u001B[49m\u001B[43m)\u001B[49m\n\u001B[0;32m    402\u001B[0m \u001B[38;5;66;03m# If we're given a body we start sending that in chunks.\u001B[39;00m\n",
      "File \u001B[1;32m~\\AppData\\Local\\Programs\\Python\\Python311\\Lib\\http\\client.py:1293\u001B[0m, in \u001B[0;36mHTTPConnection.endheaders\u001B[1;34m(self, message_body, encode_chunked)\u001B[0m\n\u001B[0;32m   1292\u001B[0m     \u001B[38;5;28;01mraise\u001B[39;00m CannotSendHeader()\n\u001B[1;32m-> 1293\u001B[0m \u001B[38;5;28;43mself\u001B[39;49m\u001B[38;5;241;43m.\u001B[39;49m\u001B[43m_send_output\u001B[49m\u001B[43m(\u001B[49m\u001B[43mmessage_body\u001B[49m\u001B[43m,\u001B[49m\u001B[43m \u001B[49m\u001B[43mencode_chunked\u001B[49m\u001B[38;5;241;43m=\u001B[39;49m\u001B[43mencode_chunked\u001B[49m\u001B[43m)\u001B[49m\n",
      "File \u001B[1;32m~\\AppData\\Local\\Programs\\Python\\Python311\\Lib\\http\\client.py:1052\u001B[0m, in \u001B[0;36mHTTPConnection._send_output\u001B[1;34m(self, message_body, encode_chunked)\u001B[0m\n\u001B[0;32m   1051\u001B[0m \u001B[38;5;28;01mdel\u001B[39;00m \u001B[38;5;28mself\u001B[39m\u001B[38;5;241m.\u001B[39m_buffer[:]\n\u001B[1;32m-> 1052\u001B[0m \u001B[38;5;28;43mself\u001B[39;49m\u001B[38;5;241;43m.\u001B[39;49m\u001B[43msend\u001B[49m\u001B[43m(\u001B[49m\u001B[43mmsg\u001B[49m\u001B[43m)\u001B[49m\n\u001B[0;32m   1054\u001B[0m \u001B[38;5;28;01mif\u001B[39;00m message_body \u001B[38;5;129;01mis\u001B[39;00m \u001B[38;5;129;01mnot\u001B[39;00m \u001B[38;5;28;01mNone\u001B[39;00m:\n\u001B[0;32m   1055\u001B[0m \n\u001B[0;32m   1056\u001B[0m     \u001B[38;5;66;03m# create a consistent interface to message_body\u001B[39;00m\n",
      "File \u001B[1;32m~\\AppData\\Local\\Programs\\Python\\Python311\\Lib\\http\\client.py:990\u001B[0m, in \u001B[0;36mHTTPConnection.send\u001B[1;34m(self, data)\u001B[0m\n\u001B[0;32m    989\u001B[0m \u001B[38;5;28;01mif\u001B[39;00m \u001B[38;5;28mself\u001B[39m\u001B[38;5;241m.\u001B[39mauto_open:\n\u001B[1;32m--> 990\u001B[0m     \u001B[38;5;28;43mself\u001B[39;49m\u001B[38;5;241;43m.\u001B[39;49m\u001B[43mconnect\u001B[49m\u001B[43m(\u001B[49m\u001B[43m)\u001B[49m\n\u001B[0;32m    991\u001B[0m \u001B[38;5;28;01melse\u001B[39;00m:\n",
      "File \u001B[1;32m~\\RiderProjects\\ML-Trading\\Analysis\\venv\\Lib\\site-packages\\urllib3\\connection.py:238\u001B[0m, in \u001B[0;36mHTTPConnection.connect\u001B[1;34m(self)\u001B[0m\n\u001B[0;32m    237\u001B[0m \u001B[38;5;28;01mdef\u001B[39;00m \u001B[38;5;21mconnect\u001B[39m(\u001B[38;5;28mself\u001B[39m) \u001B[38;5;241m-\u001B[39m\u001B[38;5;241m>\u001B[39m \u001B[38;5;28;01mNone\u001B[39;00m:\n\u001B[1;32m--> 238\u001B[0m     \u001B[38;5;28mself\u001B[39m\u001B[38;5;241m.\u001B[39msock \u001B[38;5;241m=\u001B[39m \u001B[38;5;28;43mself\u001B[39;49m\u001B[38;5;241;43m.\u001B[39;49m\u001B[43m_new_conn\u001B[49m\u001B[43m(\u001B[49m\u001B[43m)\u001B[49m\n\u001B[0;32m    239\u001B[0m     \u001B[38;5;28;01mif\u001B[39;00m \u001B[38;5;28mself\u001B[39m\u001B[38;5;241m.\u001B[39m_tunnel_host:\n\u001B[0;32m    240\u001B[0m         \u001B[38;5;66;03m# If we're tunneling it means we're connected to our proxy.\u001B[39;00m\n",
      "File \u001B[1;32m~\\RiderProjects\\ML-Trading\\Analysis\\venv\\Lib\\site-packages\\urllib3\\connection.py:213\u001B[0m, in \u001B[0;36mHTTPConnection._new_conn\u001B[1;34m(self)\u001B[0m\n\u001B[0;32m    212\u001B[0m \u001B[38;5;28;01mexcept\u001B[39;00m \u001B[38;5;167;01mOSError\u001B[39;00m \u001B[38;5;28;01mas\u001B[39;00m e:\n\u001B[1;32m--> 213\u001B[0m     \u001B[38;5;28;01mraise\u001B[39;00m NewConnectionError(\n\u001B[0;32m    214\u001B[0m         \u001B[38;5;28mself\u001B[39m, \u001B[38;5;124mf\u001B[39m\u001B[38;5;124m\"\u001B[39m\u001B[38;5;124mFailed to establish a new connection: \u001B[39m\u001B[38;5;132;01m{\u001B[39;00me\u001B[38;5;132;01m}\u001B[39;00m\u001B[38;5;124m\"\u001B[39m\n\u001B[0;32m    215\u001B[0m     ) \u001B[38;5;28;01mfrom\u001B[39;00m \u001B[38;5;21;01me\u001B[39;00m\n\u001B[0;32m    217\u001B[0m \u001B[38;5;66;03m# Audit hooks are only available in Python 3.8+\u001B[39;00m\n",
      "\u001B[1;31mNewConnectionError\u001B[0m: <urllib3.connection.HTTPConnection object at 0x00000295664F6C90>: Failed to establish a new connection: [WinError 10048] Only one usage of each socket address (protocol/network address/port) is normally permitted",
      "\nThe above exception was the direct cause of the following exception:\n",
      "\u001B[1;31mMaxRetryError\u001B[0m                             Traceback (most recent call last)",
      "File \u001B[1;32m~\\RiderProjects\\ML-Trading\\Analysis\\venv\\Lib\\site-packages\\requests\\adapters.py:486\u001B[0m, in \u001B[0;36mHTTPAdapter.send\u001B[1;34m(self, request, stream, timeout, verify, cert, proxies)\u001B[0m\n\u001B[0;32m    485\u001B[0m \u001B[38;5;28;01mtry\u001B[39;00m:\n\u001B[1;32m--> 486\u001B[0m     resp \u001B[38;5;241m=\u001B[39m \u001B[43mconn\u001B[49m\u001B[38;5;241;43m.\u001B[39;49m\u001B[43murlopen\u001B[49m\u001B[43m(\u001B[49m\n\u001B[0;32m    487\u001B[0m \u001B[43m        \u001B[49m\u001B[43mmethod\u001B[49m\u001B[38;5;241;43m=\u001B[39;49m\u001B[43mrequest\u001B[49m\u001B[38;5;241;43m.\u001B[39;49m\u001B[43mmethod\u001B[49m\u001B[43m,\u001B[49m\n\u001B[0;32m    488\u001B[0m \u001B[43m        \u001B[49m\u001B[43murl\u001B[49m\u001B[38;5;241;43m=\u001B[39;49m\u001B[43murl\u001B[49m\u001B[43m,\u001B[49m\n\u001B[0;32m    489\u001B[0m \u001B[43m        \u001B[49m\u001B[43mbody\u001B[49m\u001B[38;5;241;43m=\u001B[39;49m\u001B[43mrequest\u001B[49m\u001B[38;5;241;43m.\u001B[39;49m\u001B[43mbody\u001B[49m\u001B[43m,\u001B[49m\n\u001B[0;32m    490\u001B[0m \u001B[43m        \u001B[49m\u001B[43mheaders\u001B[49m\u001B[38;5;241;43m=\u001B[39;49m\u001B[43mrequest\u001B[49m\u001B[38;5;241;43m.\u001B[39;49m\u001B[43mheaders\u001B[49m\u001B[43m,\u001B[49m\n\u001B[0;32m    491\u001B[0m \u001B[43m        \u001B[49m\u001B[43mredirect\u001B[49m\u001B[38;5;241;43m=\u001B[39;49m\u001B[38;5;28;43;01mFalse\u001B[39;49;00m\u001B[43m,\u001B[49m\n\u001B[0;32m    492\u001B[0m \u001B[43m        \u001B[49m\u001B[43massert_same_host\u001B[49m\u001B[38;5;241;43m=\u001B[39;49m\u001B[38;5;28;43;01mFalse\u001B[39;49;00m\u001B[43m,\u001B[49m\n\u001B[0;32m    493\u001B[0m \u001B[43m        \u001B[49m\u001B[43mpreload_content\u001B[49m\u001B[38;5;241;43m=\u001B[39;49m\u001B[38;5;28;43;01mFalse\u001B[39;49;00m\u001B[43m,\u001B[49m\n\u001B[0;32m    494\u001B[0m \u001B[43m        \u001B[49m\u001B[43mdecode_content\u001B[49m\u001B[38;5;241;43m=\u001B[39;49m\u001B[38;5;28;43;01mFalse\u001B[39;49;00m\u001B[43m,\u001B[49m\n\u001B[0;32m    495\u001B[0m \u001B[43m        \u001B[49m\u001B[43mretries\u001B[49m\u001B[38;5;241;43m=\u001B[39;49m\u001B[38;5;28;43mself\u001B[39;49m\u001B[38;5;241;43m.\u001B[39;49m\u001B[43mmax_retries\u001B[49m\u001B[43m,\u001B[49m\n\u001B[0;32m    496\u001B[0m \u001B[43m        \u001B[49m\u001B[43mtimeout\u001B[49m\u001B[38;5;241;43m=\u001B[39;49m\u001B[43mtimeout\u001B[49m\u001B[43m,\u001B[49m\n\u001B[0;32m    497\u001B[0m \u001B[43m        \u001B[49m\u001B[43mchunked\u001B[49m\u001B[38;5;241;43m=\u001B[39;49m\u001B[43mchunked\u001B[49m\u001B[43m,\u001B[49m\n\u001B[0;32m    498\u001B[0m \u001B[43m    \u001B[49m\u001B[43m)\u001B[49m\n\u001B[0;32m    500\u001B[0m \u001B[38;5;28;01mexcept\u001B[39;00m (ProtocolError, \u001B[38;5;167;01mOSError\u001B[39;00m) \u001B[38;5;28;01mas\u001B[39;00m err:\n",
      "File \u001B[1;32m~\\RiderProjects\\ML-Trading\\Analysis\\venv\\Lib\\site-packages\\urllib3\\connectionpool.py:847\u001B[0m, in \u001B[0;36mHTTPConnectionPool.urlopen\u001B[1;34m(self, method, url, body, headers, retries, redirect, assert_same_host, timeout, pool_timeout, release_conn, chunked, body_pos, preload_content, decode_content, **response_kw)\u001B[0m\n\u001B[0;32m    845\u001B[0m     new_e \u001B[38;5;241m=\u001B[39m ProtocolError(\u001B[38;5;124m\"\u001B[39m\u001B[38;5;124mConnection aborted.\u001B[39m\u001B[38;5;124m\"\u001B[39m, new_e)\n\u001B[1;32m--> 847\u001B[0m retries \u001B[38;5;241m=\u001B[39m \u001B[43mretries\u001B[49m\u001B[38;5;241;43m.\u001B[39;49m\u001B[43mincrement\u001B[49m\u001B[43m(\u001B[49m\n\u001B[0;32m    848\u001B[0m \u001B[43m    \u001B[49m\u001B[43mmethod\u001B[49m\u001B[43m,\u001B[49m\u001B[43m \u001B[49m\u001B[43murl\u001B[49m\u001B[43m,\u001B[49m\u001B[43m \u001B[49m\u001B[43merror\u001B[49m\u001B[38;5;241;43m=\u001B[39;49m\u001B[43mnew_e\u001B[49m\u001B[43m,\u001B[49m\u001B[43m \u001B[49m\u001B[43m_pool\u001B[49m\u001B[38;5;241;43m=\u001B[39;49m\u001B[38;5;28;43mself\u001B[39;49m\u001B[43m,\u001B[49m\u001B[43m \u001B[49m\u001B[43m_stacktrace\u001B[49m\u001B[38;5;241;43m=\u001B[39;49m\u001B[43msys\u001B[49m\u001B[38;5;241;43m.\u001B[39;49m\u001B[43mexc_info\u001B[49m\u001B[43m(\u001B[49m\u001B[43m)\u001B[49m\u001B[43m[\u001B[49m\u001B[38;5;241;43m2\u001B[39;49m\u001B[43m]\u001B[49m\n\u001B[0;32m    849\u001B[0m \u001B[43m\u001B[49m\u001B[43m)\u001B[49m\n\u001B[0;32m    850\u001B[0m retries\u001B[38;5;241m.\u001B[39msleep()\n",
      "File \u001B[1;32m~\\RiderProjects\\ML-Trading\\Analysis\\venv\\Lib\\site-packages\\urllib3\\util\\retry.py:515\u001B[0m, in \u001B[0;36mRetry.increment\u001B[1;34m(self, method, url, response, error, _pool, _stacktrace)\u001B[0m\n\u001B[0;32m    514\u001B[0m     reason \u001B[38;5;241m=\u001B[39m error \u001B[38;5;129;01mor\u001B[39;00m ResponseError(cause)\n\u001B[1;32m--> 515\u001B[0m     \u001B[38;5;28;01mraise\u001B[39;00m MaxRetryError(_pool, url, reason) \u001B[38;5;28;01mfrom\u001B[39;00m \u001B[38;5;21;01mreason\u001B[39;00m  \u001B[38;5;66;03m# type: ignore[arg-type]\u001B[39;00m\n\u001B[0;32m    517\u001B[0m log\u001B[38;5;241m.\u001B[39mdebug(\u001B[38;5;124m\"\u001B[39m\u001B[38;5;124mIncremented Retry for (url=\u001B[39m\u001B[38;5;124m'\u001B[39m\u001B[38;5;132;01m%s\u001B[39;00m\u001B[38;5;124m'\u001B[39m\u001B[38;5;124m): \u001B[39m\u001B[38;5;132;01m%r\u001B[39;00m\u001B[38;5;124m\"\u001B[39m, url, new_retry)\n",
      "\u001B[1;31mMaxRetryError\u001B[0m: HTTPConnectionPool(host='localhost', port=5000): Max retries exceeded with url: /api/backtests/27e0d539-1075-4325-8f10-b4aadd97d90c (Caused by NewConnectionError('<urllib3.connection.HTTPConnection object at 0x00000295664F6C90>: Failed to establish a new connection: [WinError 10048] Only one usage of each socket address (protocol/network address/port) is normally permitted'))",
      "\nDuring handling of the above exception, another exception occurred:\n",
      "\u001B[1;31mConnectionError\u001B[0m                           Traceback (most recent call last)",
      "Cell \u001B[1;32mIn[19], line 1\u001B[0m\n\u001B[1;32m----> 1\u001B[0m \u001B[43mrun_backtests_with_predictor\u001B[49m\u001B[43m(\u001B[49m\u001B[43mdefault_params\u001B[49m\u001B[43m)\u001B[49m\n",
      "Cell \u001B[1;32mIn[18], line 14\u001B[0m, in \u001B[0;36mrun_backtests_with_predictor\u001B[1;34m(parameters)\u001B[0m\n\u001B[0;32m     12\u001B[0m set_strategy_parameters(strategy_name, params)\n\u001B[0;32m     13\u001B[0m backtest_id \u001B[38;5;241m=\u001B[39m start_backtest(make_request(strategy_name))\n\u001B[1;32m---> 14\u001B[0m \u001B[43mwait_for_backtest\u001B[49m\u001B[43m(\u001B[49m\u001B[43mbacktest_id\u001B[49m\u001B[43m)\u001B[49m\n\u001B[0;32m     15\u001B[0m analysis \u001B[38;5;241m=\u001B[39m analyze_backtest(backtest_id)\n\u001B[0;32m     17\u001B[0m name\u001B[38;5;241m=\u001B[39m\u001B[38;5;124mf\u001B[39m\u001B[38;5;124m\"\u001B[39m\u001B[38;5;124mpred_\u001B[39m\u001B[38;5;132;01m{\u001B[39;00mstrategy_name\u001B[38;5;241m.\u001B[39mlower()\u001B[38;5;241m.\u001B[39mreplace(\u001B[38;5;124m'\u001B[39m\u001B[38;5;124m strategy\u001B[39m\u001B[38;5;124m'\u001B[39m,\u001B[38;5;250m \u001B[39m\u001B[38;5;124m'\u001B[39m\u001B[38;5;124m'\u001B[39m)\u001B[38;5;241m.\u001B[39mreplace(\u001B[38;5;124m'\u001B[39m\u001B[38;5;124m \u001B[39m\u001B[38;5;124m'\u001B[39m,\u001B[38;5;250m \u001B[39m\u001B[38;5;124m'\u001B[39m\u001B[38;5;124m_\u001B[39m\u001B[38;5;124m'\u001B[39m)\u001B[38;5;132;01m}\u001B[39;00m\u001B[38;5;124m\"\u001B[39m\n",
      "File \u001B[1;32m~\\RiderProjects\\ML-Trading\\Analysis\\backtests.py:65\u001B[0m, in \u001B[0;36mwait_for_backtest\u001B[1;34m(backtest_id, quiet)\u001B[0m\n\u001B[0;32m     62\u001B[0m \u001B[38;5;28;01mif\u001B[39;00m \u001B[38;5;129;01mnot\u001B[39;00m quiet:\n\u001B[0;32m     63\u001B[0m     \u001B[38;5;28mprint\u001B[39m(\u001B[38;5;124mf\u001B[39m\u001B[38;5;124m\"\u001B[39m\u001B[38;5;124mWaiting for backtest \u001B[39m\u001B[38;5;132;01m{\u001B[39;00mbacktest_id\u001B[38;5;132;01m}\u001B[39;00m\u001B[38;5;124m\"\u001B[39m)\n\u001B[1;32m---> 65\u001B[0m \u001B[38;5;28;01mwhile\u001B[39;00m (state \u001B[38;5;241m:=\u001B[39m \u001B[43mget_state\u001B[49m\u001B[43m(\u001B[49m\u001B[43m)\u001B[49m) \u001B[38;5;241m==\u001B[39m \u001B[38;5;124m\"\u001B[39m\u001B[38;5;124mRunning\u001B[39m\u001B[38;5;124m\"\u001B[39m:\n\u001B[0;32m     66\u001B[0m     time\u001B[38;5;241m.\u001B[39msleep(\u001B[38;5;241m1\u001B[39m)\n\u001B[0;32m     68\u001B[0m \u001B[38;5;28;01mmatch\u001B[39;00m state:\n",
      "File \u001B[1;32m~\\RiderProjects\\ML-Trading\\Analysis\\backtests.py:57\u001B[0m, in \u001B[0;36mwait_for_backtest.<locals>.get_state\u001B[1;34m()\u001B[0m\n\u001B[0;32m     56\u001B[0m \u001B[38;5;28;01mdef\u001B[39;00m \u001B[38;5;21mget_state\u001B[39m():\n\u001B[1;32m---> 57\u001B[0m     response \u001B[38;5;241m=\u001B[39m \u001B[43mrequests\u001B[49m\u001B[38;5;241;43m.\u001B[39;49m\u001B[43mget\u001B[49m\u001B[43m(\u001B[49m\u001B[38;5;124;43mf\u001B[39;49m\u001B[38;5;124;43m\"\u001B[39;49m\u001B[38;5;124;43mhttp://localhost:5000/api/backtests/\u001B[39;49m\u001B[38;5;132;43;01m{\u001B[39;49;00m\u001B[43mbacktest_id\u001B[49m\u001B[38;5;132;43;01m}\u001B[39;49;00m\u001B[38;5;124;43m\"\u001B[39;49m\u001B[43m,\u001B[49m\n\u001B[0;32m     58\u001B[0m \u001B[43m                            \u001B[49m\u001B[43mauth\u001B[49m\u001B[38;5;241;43m=\u001B[39;49m\u001B[43mHTTPBasicAuth\u001B[49m\u001B[43m(\u001B[49m\u001B[38;5;124;43m\"\u001B[39;49m\u001B[38;5;124;43madmin\u001B[39;49m\u001B[38;5;124;43m\"\u001B[39;49m\u001B[43m,\u001B[49m\u001B[43m \u001B[49m\u001B[38;5;124;43m\"\u001B[39;49m\u001B[38;5;124;43mpassword\u001B[39;49m\u001B[38;5;124;43m\"\u001B[39;49m\u001B[43m)\u001B[49m\u001B[43m)\u001B[49m\n\u001B[0;32m     59\u001B[0m     response\u001B[38;5;241m.\u001B[39mraise_for_status()\n\u001B[0;32m     60\u001B[0m     \u001B[38;5;28;01mreturn\u001B[39;00m response\u001B[38;5;241m.\u001B[39mjson()[\u001B[38;5;124m\"\u001B[39m\u001B[38;5;124mstate\u001B[39m\u001B[38;5;124m\"\u001B[39m]\n",
      "File \u001B[1;32m~\\RiderProjects\\ML-Trading\\Analysis\\venv\\Lib\\site-packages\\requests\\api.py:73\u001B[0m, in \u001B[0;36mget\u001B[1;34m(url, params, **kwargs)\u001B[0m\n\u001B[0;32m     62\u001B[0m \u001B[38;5;28;01mdef\u001B[39;00m \u001B[38;5;21mget\u001B[39m(url, params\u001B[38;5;241m=\u001B[39m\u001B[38;5;28;01mNone\u001B[39;00m, \u001B[38;5;241m*\u001B[39m\u001B[38;5;241m*\u001B[39mkwargs):\n\u001B[0;32m     63\u001B[0m \u001B[38;5;250m    \u001B[39m\u001B[38;5;124mr\u001B[39m\u001B[38;5;124;03m\"\"\"Sends a GET request.\u001B[39;00m\n\u001B[0;32m     64\u001B[0m \n\u001B[0;32m     65\u001B[0m \u001B[38;5;124;03m    :param url: URL for the new :class:`Request` object.\u001B[39;00m\n\u001B[1;32m   (...)\u001B[0m\n\u001B[0;32m     70\u001B[0m \u001B[38;5;124;03m    :rtype: requests.Response\u001B[39;00m\n\u001B[0;32m     71\u001B[0m \u001B[38;5;124;03m    \"\"\"\u001B[39;00m\n\u001B[1;32m---> 73\u001B[0m     \u001B[38;5;28;01mreturn\u001B[39;00m \u001B[43mrequest\u001B[49m\u001B[43m(\u001B[49m\u001B[38;5;124;43m\"\u001B[39;49m\u001B[38;5;124;43mget\u001B[39;49m\u001B[38;5;124;43m\"\u001B[39;49m\u001B[43m,\u001B[49m\u001B[43m \u001B[49m\u001B[43murl\u001B[49m\u001B[43m,\u001B[49m\u001B[43m \u001B[49m\u001B[43mparams\u001B[49m\u001B[38;5;241;43m=\u001B[39;49m\u001B[43mparams\u001B[49m\u001B[43m,\u001B[49m\u001B[43m \u001B[49m\u001B[38;5;241;43m*\u001B[39;49m\u001B[38;5;241;43m*\u001B[39;49m\u001B[43mkwargs\u001B[49m\u001B[43m)\u001B[49m\n",
      "File \u001B[1;32m~\\RiderProjects\\ML-Trading\\Analysis\\venv\\Lib\\site-packages\\requests\\api.py:59\u001B[0m, in \u001B[0;36mrequest\u001B[1;34m(method, url, **kwargs)\u001B[0m\n\u001B[0;32m     55\u001B[0m \u001B[38;5;66;03m# By using the 'with' statement we are sure the session is closed, thus we\u001B[39;00m\n\u001B[0;32m     56\u001B[0m \u001B[38;5;66;03m# avoid leaving sockets open which can trigger a ResourceWarning in some\u001B[39;00m\n\u001B[0;32m     57\u001B[0m \u001B[38;5;66;03m# cases, and look like a memory leak in others.\u001B[39;00m\n\u001B[0;32m     58\u001B[0m \u001B[38;5;28;01mwith\u001B[39;00m sessions\u001B[38;5;241m.\u001B[39mSession() \u001B[38;5;28;01mas\u001B[39;00m session:\n\u001B[1;32m---> 59\u001B[0m     \u001B[38;5;28;01mreturn\u001B[39;00m \u001B[43msession\u001B[49m\u001B[38;5;241;43m.\u001B[39;49m\u001B[43mrequest\u001B[49m\u001B[43m(\u001B[49m\u001B[43mmethod\u001B[49m\u001B[38;5;241;43m=\u001B[39;49m\u001B[43mmethod\u001B[49m\u001B[43m,\u001B[49m\u001B[43m \u001B[49m\u001B[43murl\u001B[49m\u001B[38;5;241;43m=\u001B[39;49m\u001B[43murl\u001B[49m\u001B[43m,\u001B[49m\u001B[43m \u001B[49m\u001B[38;5;241;43m*\u001B[39;49m\u001B[38;5;241;43m*\u001B[39;49m\u001B[43mkwargs\u001B[49m\u001B[43m)\u001B[49m\n",
      "File \u001B[1;32m~\\RiderProjects\\ML-Trading\\Analysis\\venv\\Lib\\site-packages\\requests\\sessions.py:589\u001B[0m, in \u001B[0;36mSession.request\u001B[1;34m(self, method, url, params, data, headers, cookies, files, auth, timeout, allow_redirects, proxies, hooks, stream, verify, cert, json)\u001B[0m\n\u001B[0;32m    584\u001B[0m send_kwargs \u001B[38;5;241m=\u001B[39m {\n\u001B[0;32m    585\u001B[0m     \u001B[38;5;124m\"\u001B[39m\u001B[38;5;124mtimeout\u001B[39m\u001B[38;5;124m\"\u001B[39m: timeout,\n\u001B[0;32m    586\u001B[0m     \u001B[38;5;124m\"\u001B[39m\u001B[38;5;124mallow_redirects\u001B[39m\u001B[38;5;124m\"\u001B[39m: allow_redirects,\n\u001B[0;32m    587\u001B[0m }\n\u001B[0;32m    588\u001B[0m send_kwargs\u001B[38;5;241m.\u001B[39mupdate(settings)\n\u001B[1;32m--> 589\u001B[0m resp \u001B[38;5;241m=\u001B[39m \u001B[38;5;28;43mself\u001B[39;49m\u001B[38;5;241;43m.\u001B[39;49m\u001B[43msend\u001B[49m\u001B[43m(\u001B[49m\u001B[43mprep\u001B[49m\u001B[43m,\u001B[49m\u001B[43m \u001B[49m\u001B[38;5;241;43m*\u001B[39;49m\u001B[38;5;241;43m*\u001B[39;49m\u001B[43msend_kwargs\u001B[49m\u001B[43m)\u001B[49m\n\u001B[0;32m    591\u001B[0m \u001B[38;5;28;01mreturn\u001B[39;00m resp\n",
      "File \u001B[1;32m~\\RiderProjects\\ML-Trading\\Analysis\\venv\\Lib\\site-packages\\requests\\sessions.py:703\u001B[0m, in \u001B[0;36mSession.send\u001B[1;34m(self, request, **kwargs)\u001B[0m\n\u001B[0;32m    700\u001B[0m start \u001B[38;5;241m=\u001B[39m preferred_clock()\n\u001B[0;32m    702\u001B[0m \u001B[38;5;66;03m# Send the request\u001B[39;00m\n\u001B[1;32m--> 703\u001B[0m r \u001B[38;5;241m=\u001B[39m \u001B[43madapter\u001B[49m\u001B[38;5;241;43m.\u001B[39;49m\u001B[43msend\u001B[49m\u001B[43m(\u001B[49m\u001B[43mrequest\u001B[49m\u001B[43m,\u001B[49m\u001B[43m \u001B[49m\u001B[38;5;241;43m*\u001B[39;49m\u001B[38;5;241;43m*\u001B[39;49m\u001B[43mkwargs\u001B[49m\u001B[43m)\u001B[49m\n\u001B[0;32m    705\u001B[0m \u001B[38;5;66;03m# Total elapsed time of the request (approximately)\u001B[39;00m\n\u001B[0;32m    706\u001B[0m elapsed \u001B[38;5;241m=\u001B[39m preferred_clock() \u001B[38;5;241m-\u001B[39m start\n",
      "File \u001B[1;32m~\\RiderProjects\\ML-Trading\\Analysis\\venv\\Lib\\site-packages\\requests\\adapters.py:519\u001B[0m, in \u001B[0;36mHTTPAdapter.send\u001B[1;34m(self, request, stream, timeout, verify, cert, proxies)\u001B[0m\n\u001B[0;32m    515\u001B[0m     \u001B[38;5;28;01mif\u001B[39;00m \u001B[38;5;28misinstance\u001B[39m(e\u001B[38;5;241m.\u001B[39mreason, _SSLError):\n\u001B[0;32m    516\u001B[0m         \u001B[38;5;66;03m# This branch is for urllib3 v1.22 and later.\u001B[39;00m\n\u001B[0;32m    517\u001B[0m         \u001B[38;5;28;01mraise\u001B[39;00m SSLError(e, request\u001B[38;5;241m=\u001B[39mrequest)\n\u001B[1;32m--> 519\u001B[0m     \u001B[38;5;28;01mraise\u001B[39;00m \u001B[38;5;167;01mConnectionError\u001B[39;00m(e, request\u001B[38;5;241m=\u001B[39mrequest)\n\u001B[0;32m    521\u001B[0m \u001B[38;5;28;01mexcept\u001B[39;00m ClosedPoolError \u001B[38;5;28;01mas\u001B[39;00m e:\n\u001B[0;32m    522\u001B[0m     \u001B[38;5;28;01mraise\u001B[39;00m \u001B[38;5;167;01mConnectionError\u001B[39;00m(e, request\u001B[38;5;241m=\u001B[39mrequest)\n",
      "\u001B[1;31mConnectionError\u001B[0m: HTTPConnectionPool(host='localhost', port=5000): Max retries exceeded with url: /api/backtests/27e0d539-1075-4325-8f10-b4aadd97d90c (Caused by NewConnectionError('<urllib3.connection.HTTPConnection object at 0x00000295664F6C90>: Failed to establish a new connection: [WinError 10048] Only one usage of each socket address (protocol/network address/port) is normally permitted'))"
     ]
    },
    {
     "data": {
      "text/plain": "<Figure size 1500x600 with 0 Axes>"
     },
     "metadata": {},
     "output_type": "display_data"
    },
    {
     "data": {
      "text/plain": "<Figure size 1500x600 with 0 Axes>"
     },
     "metadata": {},
     "output_type": "display_data"
    },
    {
     "data": {
      "text/plain": "<Figure size 1500x600 with 0 Axes>"
     },
     "metadata": {},
     "output_type": "display_data"
    }
   ],
   "source": [
    "run_backtests_with_predictor(default_params)"
   ],
   "metadata": {
    "collapsed": false,
    "ExecuteTime": {
     "end_time": "2024-04-29T01:37:30.501303Z",
     "start_time": "2024-04-28T21:46:07.745126200Z"
    }
   },
   "id": "f0b9469b21965325",
   "execution_count": 19
  },
  {
   "cell_type": "code",
   "outputs": [],
   "source": [
    "run_backtests_with_predictor_with_folds(default_params)"
   ],
   "metadata": {
    "collapsed": false,
    "ExecuteTime": {
     "start_time": "2024-04-29T01:37:30.500723500Z"
    }
   },
   "id": "68d8a8e81ce0b0ed"
  },
  {
   "cell_type": "code",
   "outputs": [],
   "source": [
    "run_backtests_with_predictor(best_params_with_error)"
   ],
   "metadata": {
    "collapsed": false,
    "ExecuteTime": {
     "start_time": "2024-04-29T01:37:30.500723500Z"
    }
   },
   "id": "4853a1f473f00c3c"
  },
  {
   "cell_type": "code",
   "outputs": [],
   "source": [
    "run_backtests_with_predictor_with_folds(best_params_with_error)"
   ],
   "metadata": {
    "collapsed": false,
    "ExecuteTime": {
     "start_time": "2024-04-29T01:37:30.500723500Z"
    }
   },
   "id": "ccdf93114df917e9"
  },
  {
   "cell_type": "code",
   "outputs": [],
   "source": [
    "run_backtests_with_predictor(best_params_no_error)"
   ],
   "metadata": {
    "collapsed": false,
    "ExecuteTime": {
     "start_time": "2024-04-29T01:37:30.501226300Z"
    }
   },
   "id": "4753a67cebd8ecc9"
  },
  {
   "cell_type": "code",
   "outputs": [],
   "source": [
    "run_backtests_with_predictor_with_folds(best_params_no_error)"
   ],
   "metadata": {
    "collapsed": false,
    "ExecuteTime": {
     "end_time": "2024-04-29T01:37:30.503572300Z",
     "start_time": "2024-04-29T01:37:30.501303Z"
    }
   },
   "id": "92967fd0eac7b124"
  }
 ],
 "metadata": {
  "kernelspec": {
   "display_name": "Python 3",
   "language": "python",
   "name": "python3"
  },
  "language_info": {
   "codemirror_mode": {
    "name": "ipython",
    "version": 2
   },
   "file_extension": ".py",
   "mimetype": "text/x-python",
   "name": "python",
   "nbconvert_exporter": "python",
   "pygments_lexer": "ipython2",
   "version": "2.7.6"
  }
 },
 "nbformat": 4,
 "nbformat_minor": 5
}
