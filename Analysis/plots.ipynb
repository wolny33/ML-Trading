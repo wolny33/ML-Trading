{
 "cells": [
  {
   "cell_type": "code",
   "execution_count": null,
   "id": "initial_id",
   "metadata": {
    "collapsed": true
   },
   "outputs": [],
   "source": [
    "import os\n",
    "import matplotlib.pyplot as plt\n",
    "from backtests import fetch_portfolio_states, start_backtest, wait_for_backtest, BacktestRequest, analyze_backtest, BacktestAnalysis, get_backtest_ids, get_backtest_return\n",
    "from strategy import get_strategy_names, set_strategy_parameters, get_strategy_parameters"
   ]
  },
  {
   "cell_type": "code",
   "outputs": [],
   "source": [
    "def plot_portfolio_value(assets_states, save_name=None, show=True):\n",
    "    portfolio_values = [state.assets.equityValue for state in assets_states]\n",
    "    dates = [state.createdAt for state in assets_states]\n",
    "    \n",
    "    plt.figure(figsize=(15, 6))\n",
    "    plt.plot(dates, portfolio_values)\n",
    "    plt.xlabel('Date')\n",
    "    plt.ylabel('Value')\n",
    "    \n",
    "    if save_name is not None:\n",
    "        os.makedirs(\"plots\", exist_ok=True)\n",
    "        plt.savefig(f\"plots/{save_name}.png\", transparent=True)\n",
    "    \n",
    "    if show:\n",
    "        plt.show()\n",
    "        \n",
    "    if (save_name is not None) or show:\n",
    "        plt.clf()"
   ],
   "metadata": {
    "collapsed": false
   },
   "id": "77c6a0b46b09a5db",
   "execution_count": null
  },
  {
   "cell_type": "code",
   "execution_count": null,
   "outputs": [],
   "source": [
    "def plot_num_of_positions(assets_states):\n",
    "    portfolio_values = [len(state.assets.positions) for state in assets_states]\n",
    "    dates = [state.createdAt for state in assets_states]\n",
    "    \n",
    "    plt.figure(figsize=(15, 6))\n",
    "    plt.plot(dates, portfolio_values)\n",
    "    plt.xlabel('Date')\n",
    "    plt.ylabel('Positions')\n",
    "    plt.show()"
   ],
   "metadata": {
    "collapsed": false
   },
   "id": "3b3ac3c3daa6328f"
  },
  {
   "cell_type": "code",
   "outputs": [],
   "source": [
    "def print_investments(investments):\n",
    "    for inv in investments:\n",
    "        print(f\"{inv.symbol}: {inv.exit_value / inv.entry} ({inv.start} to {inv.end})\")"
   ],
   "metadata": {
    "collapsed": false
   },
   "id": "c1eb04cd99f8f7be",
   "execution_count": null
  },
  {
   "cell_type": "code",
   "execution_count": null,
   "outputs": [],
   "source": [
    "def print_analysis(name, analysis_details):\n",
    "    print(f\"-> BACKTEST {name}\")\n",
    "    print(f\"\\tReturn:                     {(analysis_details.total_return*100):.3f}%\")\n",
    "    print(f\"\\tInvestments:                {analysis_details.investments_count}\")\n",
    "    print(f\"\\t Avg investment length:     {analysis_details.avg_investment_length:.3f} days\")\n",
    "    print(f\"\\t Positive investment ratio: {(analysis_details.positive_investment_ratio * 100):.2f}%\")"
   ],
   "metadata": {
    "collapsed": false
   },
   "id": "536d96db42bcd012"
  },
  {
   "cell_type": "code",
   "execution_count": null,
   "outputs": [],
   "source": [
    "def run_backtests_for_strategies(symbols, skip, prediction_error, strategies=None):\n",
    "    def make_request(strategy):\n",
    "        return BacktestRequest(\n",
    "            strategy=strategy,\n",
    "            symbols=symbols,\n",
    "            skip=skip,\n",
    "            use_predictor=False,\n",
    "            avg_prediction_error=prediction_error\n",
    "        )\n",
    "    \n",
    "    if strategies is None:\n",
    "        strategies = get_strategy_names()\n",
    "    \n",
    "    for strategy_name in strategies:\n",
    "        backtest_id = start_backtest(make_request(strategy_name))\n",
    "        wait_for_backtest(backtest_id)\n",
    "        analysis = analyze_backtest(backtest_id)\n",
    "        \n",
    "        name=f\"err_{(prediction_error*100):.2f}_{strategy_name.lower().replace(' strategy', '').replace(' ', '_')}\"\n",
    "        print_analysis(name, analysis)\n",
    "        plot_portfolio_value(analysis.portfolio_states, name, show=False)"
   ],
   "metadata": {
    "collapsed": false
   },
   "id": "478feb174fc7085a"
  },
  {
   "cell_type": "code",
   "execution_count": null,
   "outputs": [],
   "source": [
    "def run_backtests_with_folds(prediction_error, strategies=None):\n",
    "    def make_request(name, fold):\n",
    "        return BacktestRequest(\n",
    "            strategy=name,\n",
    "            symbols=1100,\n",
    "            skip=fold*1100,\n",
    "            use_predictor=False,\n",
    "            avg_prediction_error=prediction_error\n",
    "        )\n",
    "    \n",
    "    if strategies is None:\n",
    "        strategies = get_strategy_names()\n",
    "    \n",
    "    folds = list(range(5))\n",
    "    for strategy_name in strategies:\n",
    "        analysis_results = []\n",
    "        for fold in folds:\n",
    "            backtest_id = start_backtest(make_request(strategy_name, fold))\n",
    "            wait_for_backtest(backtest_id)\n",
    "            analysis_results.append(\n",
    "                analyze_backtest(backtest_id)\n",
    "            )\n",
    "            \n",
    "        combined_details = BacktestAnalysis(\n",
    "            total_return=sum(a.total_return for a in analysis_results) / len(analysis_results),\n",
    "            investments_count=sum(a.investments_count for a in analysis_results) / len(analysis_results),\n",
    "            avg_investment_length=sum(a.avg_investment_length for a in analysis_results) / len(analysis_results),\n",
    "            positive_investment_ratio=sum(a.positive_investment_ratio for a in analysis_results) / len(analysis_results),\n",
    "            portfolio_states=None,\n",
    "            investments=None\n",
    "        )\n",
    "        \n",
    "        print_analysis(f\"folds_err_{(prediction_error*100):.2f}_{strategy_name.lower().replace(' strategy', '').replace(' ', '_')}\", combined_details)"
   ],
   "metadata": {
    "collapsed": false
   },
   "id": "e936e5c3b9b5e9af"
  },
  {
   "cell_type": "markdown",
   "source": [
    "### Strategy backtests "
   ],
   "metadata": {
    "collapsed": false
   },
   "id": "e8e2c34f697e9614"
  },
  {
   "cell_type": "code",
   "execution_count": null,
   "outputs": [],
   "source": [
    "run_backtests_for_strategies(symbols=-1, skip=0, prediction_error=0)"
   ],
   "metadata": {
    "collapsed": false
   },
   "id": "841691b9361cae29"
  },
  {
   "cell_type": "code",
   "outputs": [],
   "source": [
    "run_backtests_with_folds(prediction_error=0)"
   ],
   "metadata": {
    "collapsed": false
   },
   "id": "d5e8743f202f34db",
   "execution_count": null
  },
  {
   "cell_type": "code",
   "outputs": [],
   "source": [
    "for error in [0.01, 0.05, 0.1, 0.2]:\n",
    "    run_backtests_with_folds(prediction_error=error, strategies=[\n",
    "        \"Basic strategy\",\n",
    "        \"Greedy optimal strategy\",\n",
    "        \"Overreaction strategy with predictions\",\n",
    "        \"Trend following strategy with predictions\",\n",
    "        \"PCA strategy with predictions\"\n",
    "    ])"
   ],
   "metadata": {
    "collapsed": false
   },
   "id": "4cdc657df49a2c0a",
   "execution_count": null
  },
  {
   "cell_type": "code",
   "outputs": [],
   "source": [
    "for error in [0.01, 0.05, 0.1, 0.2]:\n",
    "    run_backtests_for_strategies(symbols=-1, skip=0, prediction_error=error, strategies=[\n",
    "        \"Basic strategy\",\n",
    "        \"Greedy optimal strategy\",\n",
    "        \"Overreaction strategy with predictions\",\n",
    "        \"Trend following strategy with predictions\",\n",
    "        \"PCA strategy with predictions\"\n",
    "    ])"
   ],
   "metadata": {
    "collapsed": false
   },
   "id": "3b07c50c23236e48",
   "execution_count": null
  },
  {
   "cell_type": "markdown",
   "source": [
    "### Plots"
   ],
   "metadata": {
    "collapsed": false
   },
   "id": "6bef6f4f690afc60"
  },
  {
   "cell_type": "code",
   "outputs": [],
   "source": [
    "all_backtests = get_backtest_ids()"
   ],
   "metadata": {
    "collapsed": false
   },
   "id": "af0dc3c85354624e",
   "execution_count": null
  },
  {
   "cell_type": "code",
   "outputs": [],
   "source": [
    "{k: v for k, v in all_backtests.items() if \"(0/-1)\" in k and \" 0.000%\" in k}"
   ],
   "metadata": {
    "collapsed": false
   },
   "id": "1ff48dc624da99ae",
   "execution_count": null
  },
  {
   "cell_type": "code",
   "outputs": [],
   "source": [
    "backtests_per_strategy = {\n",
    "    \"Basic\": \"ee6113e2-90b8-40d4-b72e-43d9bf214012\",\n",
    "    \"Greedy\": \"0c3702fe-e897-4f9b-a166-f93ea5474d5f\",\n",
    "    \"Buy Losers\": \"3c1df575-6813-4baf-9c5b-020b0d3a041a\",\n",
    "    \"Buy Losers with Predictions\": \"cd6e9e59-3a09-4ae1-9850-57f16e248f74\",\n",
    "    \"Buy Winners\": \"e00a4317-a327-41b2-9464-abab72257c8a\",\n",
    "    \"Buy Winners with Predictions\": \"89ffe84b-82fa-43be-bf8b-c0078a97a003\",\n",
    "    \"PCA\": \"437bcd3b-f846-4a71-b2eb-0cd8626a1916\",\n",
    "    \"PCA with Predictions\": \"721406c3-5d3e-4ffe-9eb1-1ae4eb2ae302\"\n",
    "}\n",
    "\n",
    "def make_subplot(axis, title):\n",
    "    backtest_id = backtests_per_strategy[title]\n",
    "    \n",
    "    axis.set_title(title)\n",
    "    axis.set_ylabel(\"Return [%]\")\n",
    "    \n",
    "    assets_states = fetch_portfolio_states(backtest_id)\n",
    "    portfolio_values = [state.assets.equityValue / 1000 - 100 for state in assets_states]\n",
    "    dates = [state.createdAt for state in assets_states]\n",
    "    axis.plot(dates, portfolio_values)\n",
    "    axis.set_xticks(axis.get_xticks()[::3])\n",
    "\n",
    "figure, axes = plt.subplots(nrows=4, ncols=2, figsize=(10, 15))\n",
    "figure.tight_layout()\n",
    "\n",
    "make_subplot(axes[0, 0], \"Basic\")\n",
    "make_subplot(axes[0, 1], \"Greedy\")\n",
    "make_subplot(axes[1, 0], \"Buy Losers\")\n",
    "make_subplot(axes[1, 1], \"Buy Losers with Predictions\")\n",
    "make_subplot(axes[2, 0], \"Buy Winners\")\n",
    "make_subplot(axes[2, 1], \"Buy Winners with Predictions\")\n",
    "make_subplot(axes[3, 0], \"PCA\")\n",
    "make_subplot(axes[3, 1], \"PCA with Predictions\")\n",
    "\n",
    "plt.subplots_adjust(hspace=0.17, wspace=0.25)\n",
    "plt.show()"
   ],
   "metadata": {
    "collapsed": false
   },
   "id": "e4f9c66c6e50080f",
   "execution_count": null
  },
  {
   "cell_type": "markdown",
   "source": [
    "### Bayes search"
   ],
   "metadata": {
    "collapsed": false
   },
   "id": "eb5ad2fbacfd215e"
  },
  {
   "cell_type": "code",
   "outputs": [],
   "source": [
    "from bayes import perform_bayes_search\n",
    "from skopt.space import Real, Integer\n",
    "\n",
    "params_per_strategy = {\n",
    "    \"Basic strategy\": {\n",
    "        \"maxStocksBuyCount\": Integer(low=1, high=20),\n",
    "        \"minDaysDecreasing\": Integer(low=1, high=5),\n",
    "        \"minDaysIncreasing\": Integer(low=1, high=5),\n",
    "        \"topGrowingSymbolsBuyRatio\": Real(low=0.1, high=0.9),\n",
    "        \"limitPriceDamping\": Real(low=0, high=0.9)\n",
    "    },\n",
    "    \"Overreaction strategy\": {\n",
    "        \"evaluationFrequencyInDays\": Integer(low=7, high=90),\n",
    "        \"analysisLengthInDays\": Integer(low=7, high=90)\n",
    "    },\n",
    "    \"Overreaction strategy with predictions\": {\n",
    "        \"evaluationFrequencyInDays\": Integer(low=7, high=90),\n",
    "        \"analysisLengthInDays\": Integer(low=7, high=90),\n",
    "        \"limitPriceDamping\":Real(low=0, high=0.9)\n",
    "    },\n",
    "    \"Trend following strategy\": {\n",
    "        \"evaluationFrequencyInDays\": Integer(low=30, high=90),\n",
    "        \"analysisLengthInDays\": Integer(low=30, high=360),\n",
    "        \"simultaneousEvaluations\": Integer(low=1, high=5),\n",
    "        \"buyWaitTimeInDays\": Integer(low=0, high=14)\n",
    "    },\n",
    "    \"Trend following strategy with predictions\": {\n",
    "        \"evaluationFrequencyInDays\": Integer(low=30, high=90),\n",
    "        \"analysisLengthInDays\": Integer(low=30, high=360),\n",
    "        \"simultaneousEvaluations\": Integer(low=1, high=5),\n",
    "        \"buyWaitTimeInDays\": Integer(low=0, high=14),\n",
    "        \"limitPriceDamping\": Real(low=0, high=0.9)\n",
    "    },\n",
    "    \"PCA strategy\": {\n",
    "        \"varianceFraction\": Real(low=0.95, high=0.99),\n",
    "        \"analysisLengthInDays\": Integer(low=30, high=360),\n",
    "        \"decompositionExpirationInDays\": Integer(low=3, high=20),\n",
    "        \"undervaluedThreshold\": Real(low=0.5, high=3),\n",
    "        \"ignoredThreshold\": [0.75],\n",
    "        \"diverseThreshold\": Real(low=0.01, high=0.5)\n",
    "    },\n",
    "    \"PCA strategy with predictions\": {\n",
    "        \"varianceFraction\": Real(low=0.95, high=0.99),\n",
    "        \"analysisLengthInDays\": Integer(low=30, high=360),\n",
    "        \"decompositionExpirationInDays\": Integer(low=3, high=20),\n",
    "        \"undervaluedThreshold\": Real(low=0.5, high=3),\n",
    "        \"diverseThreshold\": Real(low=0.01, high=0.5),\n",
    "        \"ignoredThreshold\": [0.75],\n",
    "        \"limitPriceDamping\": Real(low=0, high=0.9)\n",
    "    }\n",
    "}"
   ],
   "metadata": {
    "collapsed": false
   },
   "id": "b3f87ce83fef64c0",
   "execution_count": null
  },
  {
   "cell_type": "code",
   "execution_count": null,
   "outputs": [],
   "source": [
    "class BayesResult:\n",
    "    def __init__(self, best_params, search_score, reevaluated_score):\n",
    "        self.best_params = best_params\n",
    "        self.search_score = search_score\n",
    "        self.reevaluated_score = reevaluated_score\n",
    "\n",
    "def run_bayes_search(params_to_try, iterations, symbols_per_fold=200, prediction_error=0, \n",
    "                     strategies=None):\n",
    "    \n",
    "    results = {}\n",
    "    \n",
    "    for strategy, params in params_to_try.items():\n",
    "        \n",
    "        if strategies is not None and strategy in strategies:\n",
    "            continue\n",
    "        \n",
    "        print(f\"--> Performing search for [{strategy}]...\")\n",
    "        \n",
    "        best_params, best_score = perform_bayes_search(\n",
    "            strategy,\n",
    "            params,\n",
    "            iterations,\n",
    "            prediction_error=prediction_error,\n",
    "            symbols=symbols_per_fold,\n",
    "            folds=5\n",
    "        )\n",
    "        \n",
    "        print(f\"\\tBest score: {(best_score * 100):.2f}% for parameters\")\n",
    "        for k, v in best_params:\n",
    "            print(f\"\\t\\t{k} = {(v if v == int(v) else f'{v:.4f}')}\")\n",
    "            \n",
    "        backtest_id = start_backtest(BacktestRequest(\n",
    "            strategy=strategy,\n",
    "            symbols=symbols_per_fold*5,\n",
    "            skip=0,\n",
    "            use_predictor=False,\n",
    "            avg_prediction_error=prediction_error\n",
    "        ))\n",
    "        \n",
    "        if not wait_for_backtest(backtest_id, quiet=True):\n",
    "            print(f\"\\tReevaluation failed ({backtest_id})\")\n",
    "            results[strategy] = BayesResult(best_score, best_params, -1)\n",
    "            continue\n",
    "        \n",
    "        reevaluation_score = get_backtest_return(backtest_id)\n",
    "        print(f\"\\tReevaluation score: {(reevaluation_score*100):.2f}%\")\n",
    "        results[strategy] = BayesResult(best_score, best_params, reevaluation_score)\n",
    "        \n",
    "    print(\"\\n\\n--- RESULTS ---\")\n",
    "    for strategy, result in results.items():\n",
    "        print(f\"{strategy}: {(result.search_score*100):.2f}%/{(result.reevaluated_score*100):.2f}%\")\n",
    "        for k, v in result.best_params:\n",
    "            print(f\"\\t{k} = {(v if v == int(v) else f'{v:.4f}')}\")"
   ],
   "metadata": {
    "collapsed": false
   },
   "id": "3350d15c7b3b04c6"
  },
  {
   "cell_type": "code",
   "outputs": [],
   "source": [
    "run_bayes_search(params_per_strategy, 5, symbols_per_fold=200, prediction_error=0)"
   ],
   "metadata": {
    "collapsed": false
   },
   "id": "79b21cc7b0cbbd76",
   "execution_count": null
  },
  {
   "cell_type": "code",
   "outputs": [],
   "source": [
    "run_bayes_search(params_per_strategy, 5, symbols_per_fold=200, prediction_error=0.1, strategies=[\n",
    "    \"Basic strategy\",\n",
    "    \"Greedy optimal strategy\",\n",
    "    \"Overreaction strategy with predictions\",\n",
    "    \"Trend following strategy with predictions\",\n",
    "    \"PCA strategy with predictions\"\n",
    "])"
   ],
   "metadata": {
    "collapsed": false
   },
   "id": "2a985953f7ba362a",
   "execution_count": null
  }
 ],
 "metadata": {
  "kernelspec": {
   "display_name": "Python 3",
   "language": "python",
   "name": "python3"
  },
  "language_info": {
   "codemirror_mode": {
    "name": "ipython",
    "version": 2
   },
   "file_extension": ".py",
   "mimetype": "text/x-python",
   "name": "python",
   "nbconvert_exporter": "python",
   "pygments_lexer": "ipython2",
   "version": "2.7.6"
  }
 },
 "nbformat": 4,
 "nbformat_minor": 5
}
